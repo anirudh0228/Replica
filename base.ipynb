{
  "nbformat": 4,
  "nbformat_minor": 0,
  "metadata": {
    "colab": {
      "name": "base.ipynb",
      "version": "0.3.2",
      "provenance": []
    },
    "kernelspec": {
      "display_name": "Python 3",
      "language": "python",
      "name": "python3"
    },
    "accelerator": "GPU"
  },
  "cells": [
    {
      "cell_type": "markdown",
      "metadata": {
        "id": "B_s_DKxH42C7",
        "colab_type": "text"
      },
      "source": [
        "### Neural Machine Translation using word level language model and embeddings in Keras"
      ]
    },
    {
      "cell_type": "code",
      "metadata": {
        "id": "OCYS5ZCs42C-",
        "colab_type": "code",
        "outputId": "c5c01406-fe8c-47c3-c37f-2c98c0c19cb2",
        "colab": {
          "base_uri": "https://localhost:8080/",
          "height": 112
        }
      },
      "source": [
        "!pip install sklearn\n"
      ],
      "execution_count": 0,
      "outputs": [
        {
          "output_type": "stream",
          "text": [
            "Requirement already satisfied: sklearn in /usr/local/lib/python3.6/dist-packages (0.0)\n",
            "Requirement already satisfied: scikit-learn in /usr/local/lib/python3.6/dist-packages (from sklearn) (0.21.3)\n",
            "Requirement already satisfied: scipy>=0.17.0 in /usr/local/lib/python3.6/dist-packages (from scikit-learn->sklearn) (1.3.0)\n",
            "Requirement already satisfied: numpy>=1.11.0 in /usr/local/lib/python3.6/dist-packages (from scikit-learn->sklearn) (1.16.4)\n",
            "Requirement already satisfied: joblib>=0.11 in /usr/local/lib/python3.6/dist-packages (from scikit-learn->sklearn) (0.13.2)\n"
          ],
          "name": "stdout"
        }
      ]
    },
    {
      "cell_type": "code",
      "metadata": {
        "id": "_FQOZfht42DG",
        "colab_type": "code",
        "outputId": "e8c04721-c3af-4c6e-ada9-000db2617afe",
        "colab": {
          "base_uri": "https://localhost:8080/",
          "height": 385
        }
      },
      "source": [
        "import pandas as pd\n",
        "import numpy as np\n",
        "import string\n",
        "from string import digits\n",
        "import matplotlib.pyplot as plt\n",
        "%matplotlib inline\n",
        "import re\n",
        "from sklearn.cross_validation import train_test_split\n",
        "# Building a english to french translator"
      ],
      "execution_count": 0,
      "outputs": [
        {
          "output_type": "error",
          "ename": "ModuleNotFoundError",
          "evalue": "ignored",
          "traceback": [
            "\u001b[0;31m---------------------------------------------------------------------------\u001b[0m",
            "\u001b[0;31mModuleNotFoundError\u001b[0m                       Traceback (most recent call last)",
            "\u001b[0;32m<ipython-input-4-159b7d2dbd83>\u001b[0m in \u001b[0;36m<module>\u001b[0;34m()\u001b[0m\n\u001b[1;32m      6\u001b[0m \u001b[0mget_ipython\u001b[0m\u001b[0;34m(\u001b[0m\u001b[0;34m)\u001b[0m\u001b[0;34m.\u001b[0m\u001b[0mmagic\u001b[0m\u001b[0;34m(\u001b[0m\u001b[0;34m'matplotlib inline'\u001b[0m\u001b[0;34m)\u001b[0m\u001b[0;34m\u001b[0m\u001b[0;34m\u001b[0m\u001b[0m\n\u001b[1;32m      7\u001b[0m \u001b[0;32mimport\u001b[0m \u001b[0mre\u001b[0m\u001b[0;34m\u001b[0m\u001b[0;34m\u001b[0m\u001b[0m\n\u001b[0;32m----> 8\u001b[0;31m \u001b[0;32mfrom\u001b[0m \u001b[0msklearn\u001b[0m\u001b[0;34m.\u001b[0m\u001b[0mcross_validation\u001b[0m \u001b[0;32mimport\u001b[0m \u001b[0mtrain_test_split\u001b[0m\u001b[0;34m\u001b[0m\u001b[0;34m\u001b[0m\u001b[0m\n\u001b[0m\u001b[1;32m      9\u001b[0m \u001b[0;31m# Building a english to french translator\u001b[0m\u001b[0;34m\u001b[0m\u001b[0;34m\u001b[0m\u001b[0;34m\u001b[0m\u001b[0m\n",
            "\u001b[0;31mModuleNotFoundError\u001b[0m: No module named 'sklearn.cross_validation'",
            "",
            "\u001b[0;31m---------------------------------------------------------------------------\u001b[0;32m\nNOTE: If your import is failing due to a missing package, you can\nmanually install dependencies using either !pip or !apt.\n\nTo view examples of installing some common dependencies, click the\n\"Open Examples\" button below.\n\u001b[0;31m---------------------------------------------------------------------------\u001b[0m\n"
          ]
        }
      ]
    },
    {
      "cell_type": "code",
      "metadata": {
        "id": "69D6qFzN42DT",
        "colab_type": "code",
        "outputId": "a486da64-9713-46b7-c069-89cefc7cdccf",
        "colab": {
          "base_uri": "https://localhost:8080/",
          "height": 150
        }
      },
      "source": [
        "!apt-get install -y -qq software-properties-common python-software-properties module-init-tools\n",
        "!add-apt-repository -y ppa:alessandro-strada/ppa 2>&1 > /dev/null\n",
        "!apt-get update -qq 2>&1 > /dev/null\n",
        "!apt-get -y install -qq google-drive-ocamlfuse fuse\n",
        "from google.colab import auth\n",
        "auth.authenticate_user()\n",
        "from oauth2client.client import GoogleCredentials\n",
        "creds = GoogleCredentials.get_application_default()\n",
        "import getpass\n",
        "!google-drive-ocamlfuse -headless -id={creds.client_id} -secret={creds.client_secret} < /dev/null 2>&1 | grep URL\n",
        "vcode = getpass.getpass()\n",
        "!echo {vcode} | google-drive-ocamlfuse -headless -id={creds.client_id} -secret={creds.client_secret}4/AABWMqnEy-sS_jvqJVFESId6q-4vtM9NsQ0XT7vCoGoh9-1JZSi4RSk\n"
      ],
      "execution_count": 0,
      "outputs": [
        {
          "output_type": "stream",
          "text": [
            "E: Package 'python-software-properties' has no installation candidate\n",
            "Selecting previously unselected package google-drive-ocamlfuse.\n",
            "(Reading database ... 131289 files and directories currently installed.)\n",
            "Preparing to unpack .../google-drive-ocamlfuse_0.7.6-0ubuntu1~ubuntu18.04.1_amd64.deb ...\n",
            "Unpacking google-drive-ocamlfuse (0.7.6-0ubuntu1~ubuntu18.04.1) ...\n",
            "Setting up google-drive-ocamlfuse (0.7.6-0ubuntu1~ubuntu18.04.1) ...\n",
            "Processing triggers for man-db (2.8.3-2ubuntu0.1) ...\n"
          ],
          "name": "stdout"
        }
      ]
    },
    {
      "cell_type": "code",
      "metadata": {
        "id": "bz8QrmB_C29h",
        "colab_type": "code",
        "colab": {}
      },
      "source": [
        "!mkdir -p drive\n",
        "!google-drive-ocamlfuse -o nonempty drive\n",
        "import sys\n",
        "sys.path.append('drive/chatbot')\n"
      ],
      "execution_count": 0,
      "outputs": []
    },
    {
      "cell_type": "code",
      "metadata": {
        "id": "hgb-YFUB42DV",
        "colab_type": "code",
        "outputId": "a23379e6-e24b-41bf-ad24-c554cdff2aa5",
        "colab": {
          "base_uri": "https://localhost:8080/",
          "height": 16
        }
      },
      "source": [
        "from IPython.core.display import display, HTML\n",
        "display(HTML(\"<style>.container { width:100% !important; }</style>\"))"
      ],
      "execution_count": 0,
      "outputs": [
        {
          "output_type": "display_data",
          "data": {
            "text/html": [
              "<style>.container { width:100% !important; }</style>"
            ],
            "text/plain": [
              "<IPython.core.display.HTML object>"
            ]
          },
          "metadata": {
            "tags": []
          }
        }
      ]
    },
    {
      "cell_type": "code",
      "metadata": {
        "id": "eEUTAI4x42DZ",
        "colab_type": "code",
        "colab": {}
      },
      "source": [
        ""
      ],
      "execution_count": 0,
      "outputs": []
    },
    {
      "cell_type": "code",
      "metadata": {
        "id": "SP-OmcXf42Dc",
        "colab_type": "code",
        "colab": {}
      },
      "source": [
        "lines= pd.read_table('drive/newaConv.txt', names=['eng', 'hi'])"
      ],
      "execution_count": 0,
      "outputs": []
    },
    {
      "cell_type": "code",
      "metadata": {
        "id": "_uyx9UqM42De",
        "colab_type": "code",
        "colab": {}
      },
      "source": [
        "lines = lines[0:50000]"
      ],
      "execution_count": 0,
      "outputs": []
    },
    {
      "cell_type": "code",
      "metadata": {
        "id": "81v1vtiK42Dh",
        "colab_type": "code",
        "outputId": "877506f1-32bb-44ce-d4a7-7ace52248deb",
        "colab": {
          "base_uri": "https://localhost:8080/",
          "height": 33
        }
      },
      "source": [
        "lines.shape"
      ],
      "execution_count": 0,
      "outputs": [
        {
          "output_type": "execute_result",
          "data": {
            "text/plain": [
              "(84, 2)"
            ]
          },
          "metadata": {
            "tags": []
          },
          "execution_count": 47
        }
      ]
    },
    {
      "cell_type": "code",
      "metadata": {
        "id": "8XIn45-u42Dk",
        "colab_type": "code",
        "outputId": "bab7a07c-c947-4f89-d3fd-6e6f02a74d3f",
        "colab": {
          "base_uri": "https://localhost:8080/",
          "height": 400
        }
      },
      "source": [
        "print(lines.sample(10))"
      ],
      "execution_count": 0,
      "outputs": [
        {
          "output_type": "stream",
          "text": [
            "                                                    eng  \\\n",
            "719                                            Thank u    \n",
            "345   Batana jaye tab Yup Just finished work Will se...   \n",
            "170                                               Cool    \n",
            "1249                                             Ha ji    \n",
            "210                 kuch plan nhi h papa ka mood off h    \n",
            "378   Ok Hia pe aayega Tu le aana waha se 095091 204...   \n",
            "1323                                    Na gt Shopping    \n",
            "249   oka phuch jaye to bata dena Your bus ticket bo...   \n",
            "801                               Kewl Cool Aa ja phir    \n",
            "1161       🎊🎉🎊 Wishing you a very 😊Happy Diwali....🎊🎉🎊    \n",
            "\n",
            "                                                     hi  \n",
            "719   👍🏻 ससुराल भी कीमती होता है पर मायका आखिर मायका...  \n",
            "345                        Mujhe sorry kyu KR rhi ho😂😂   \n",
            "170                               M khne wala tha ye😂😂   \n",
            "1249                                     Ok good night   \n",
            "210                                             Office   \n",
            "378   Aap bta rhi thi na data extend krneka..... Kai...  \n",
            "1323                                          😂 Badiya   \n",
            "249                                                Kyq   \n",
            "801                                                 😑😑   \n",
            "1161                                    Time leke aana   \n"
          ],
          "name": "stdout"
        }
      ]
    },
    {
      "cell_type": "markdown",
      "metadata": {
        "id": "JmrKeahc42Do",
        "colab_type": "text"
      },
      "source": [
        "#### Data Cleanup"
      ]
    },
    {
      "cell_type": "code",
      "metadata": {
        "id": "mNe-Iw8242Dp",
        "colab_type": "code",
        "colab": {}
      },
      "source": [
        "lines.eng=lines.eng.apply(lambda x: str(x).lower())\n",
        "lines.hi=lines.hi.apply(lambda x: str(x).lower())"
      ],
      "execution_count": 0,
      "outputs": []
    },
    {
      "cell_type": "code",
      "metadata": {
        "id": "6iyp8bZ142Dr",
        "colab_type": "code",
        "colab": {}
      },
      "source": [
        "# Take the length as 50\n",
        "lines.eng=lines.eng.apply(lambda x: re.sub(\"'\", '', x)).apply(lambda x: re.sub(\",\", ' COMMA', x))\n",
        "lines.hi=lines.hi.apply(lambda x: re.sub(\"'\", '', x)).apply(lambda x: re.sub(\",\", ' COMMA', x))"
      ],
      "execution_count": 0,
      "outputs": []
    },
    {
      "cell_type": "code",
      "metadata": {
        "id": "T25Ofe1N42Du",
        "colab_type": "code",
        "colab": {}
      },
      "source": [
        "exclude = set(string.punctuation)\n",
        "lines.eng=lines.eng.apply(lambda x: ''.join(ch for ch in x if ch not in exclude))\n",
        "lines.hi=lines.hi.apply(lambda x: ''.join(ch for ch in x if ch not in exclude))"
      ],
      "execution_count": 0,
      "outputs": []
    },
    {
      "cell_type": "code",
      "metadata": {
        "id": "5gX8LcVi42Dy",
        "colab_type": "code",
        "colab": {}
      },
      "source": [
        "remove_digits = str.maketrans('', '', digits)\n",
        "lines.eng=lines.eng.apply(lambda x: x.translate(remove_digits))\n",
        "lines.hi=lines.hi.apply(lambda x: x.translate(remove_digits))"
      ],
      "execution_count": 0,
      "outputs": []
    },
    {
      "cell_type": "code",
      "metadata": {
        "id": "r7W04OJV42D3",
        "colab_type": "code",
        "outputId": "256c73c4-228f-408a-ecba-f61225583e66",
        "colab": {
          "base_uri": "https://localhost:8080/",
          "height": 347
        }
      },
      "source": [
        "lines.head(10)"
      ],
      "execution_count": 0,
      "outputs": [
        {
          "output_type": "execute_result",
          "data": {
            "text/html": [
              "<div>\n",
              "<style scoped>\n",
              "    .dataframe tbody tr th:only-of-type {\n",
              "        vertical-align: middle;\n",
              "    }\n",
              "\n",
              "    .dataframe tbody tr th {\n",
              "        vertical-align: top;\n",
              "    }\n",
              "\n",
              "    .dataframe thead th {\n",
              "        text-align: right;\n",
              "    }\n",
              "</style>\n",
              "<table border=\"1\" class=\"dataframe\">\n",
              "  <thead>\n",
              "    <tr style=\"text-align: right;\">\n",
              "      <th></th>\n",
              "      <th>eng</th>\n",
              "      <th>hi</th>\n",
              "    </tr>\n",
              "  </thead>\n",
              "  <tbody>\n",
              "    <tr>\n",
              "      <th>0</th>\n",
              "      <td>shanky Happy 18th bday shanky :) 🎂🎂🎂🎂🍫🍫🍫🍫🍫 htt...</td>\n",
              "      <td>Mujhe holi ki photos send karo Aur group m add...</td>\n",
              "    </tr>\n",
              "    <tr>\n",
              "      <th>1</th>\n",
              "      <td>Bad me</td>\n",
              "      <td>Ok Ab baje do H</td>\n",
              "    </tr>\n",
              "    <tr>\n",
              "      <th>2</th>\n",
              "      <td>Hi chachu phn kar rhe h na</td>\n",
              "      <td>M Abhi room m nhi hu</td>\n",
              "    </tr>\n",
              "    <tr>\n",
              "      <th>3</th>\n",
              "      <td>Ok</td>\n",
              "      <td>Baad m karte h</td>\n",
              "    </tr>\n",
              "    <tr>\n",
              "      <th>4</th>\n",
              "      <td>Ok https://www.airtel.in/s/selfcare/?normalLogin</td>\n",
              "      <td>Aap ko PTA h kya ki m Ghar aa rha hu</td>\n",
              "    </tr>\n",
              "    <tr>\n",
              "      <th>5</th>\n",
              "      <td>Ha</td>\n",
              "      <td>Cool</td>\n",
              "    </tr>\n",
              "    <tr>\n",
              "      <th>6</th>\n",
              "      <td>Aja ladeshwar tere liye aarti ki thali tayar r...</td>\n",
              "      <td>🤣 Aarti ka PTA nhi Khane ki thali tayar rakhna🤣🤣</td>\n",
              "    </tr>\n",
              "    <tr>\n",
              "      <th>7</th>\n",
              "      <td>Charger laya h ke chore</td>\n",
              "      <td>Bus m chadne k baad yaar aaya Nhi laya</td>\n",
              "    </tr>\n",
              "    <tr>\n",
              "      <th>8</th>\n",
              "      <td>Bekoof Khud ka chatger laya h??</td>\n",
              "      <td>Nhi</td>\n",
              "    </tr>\n",
              "    <tr>\n",
              "      <th>9</th>\n",
              "      <td>Yar had h tu</td>\n",
              "      <td>Kya karu</td>\n",
              "    </tr>\n",
              "  </tbody>\n",
              "</table>\n",
              "</div>"
            ],
            "text/plain": [
              "                                                 eng  \\\n",
              "0  shanky Happy 18th bday shanky :) 🎂🎂🎂🎂🍫🍫🍫🍫🍫 htt...   \n",
              "1                                            Bad me    \n",
              "2                        Hi chachu phn kar rhe h na    \n",
              "3                                                Ok    \n",
              "4  Ok https://www.airtel.in/s/selfcare/?normalLogin    \n",
              "5                                                Ha    \n",
              "6  Aja ladeshwar tere liye aarti ki thali tayar r...   \n",
              "7                           Charger laya h ke chore    \n",
              "8                   Bekoof Khud ka chatger laya h??    \n",
              "9                                      Yar had h tu    \n",
              "\n",
              "                                                  hi  \n",
              "0  Mujhe holi ki photos send karo Aur group m add...  \n",
              "1                                   Ok Ab baje do H   \n",
              "2                              M Abhi room m nhi hu   \n",
              "3                                    Baad m karte h   \n",
              "4              Aap ko PTA h kya ki m Ghar aa rha hu   \n",
              "5                                              Cool   \n",
              "6  🤣 Aarti ka PTA nhi Khane ki thali tayar rakhna🤣🤣   \n",
              "7            Bus m chadne k baad yaar aaya Nhi laya   \n",
              "8                                               Nhi   \n",
              "9                                          Kya karu   "
            ]
          },
          "metadata": {
            "tags": []
          },
          "execution_count": 100
        }
      ]
    },
    {
      "cell_type": "markdown",
      "metadata": {
        "id": "lYdfJfSR42D6",
        "colab_type": "text"
      },
      "source": [
        "#### Generate synthetic data"
      ]
    },
    {
      "cell_type": "code",
      "metadata": {
        "id": "PokNsEhb42D7",
        "colab_type": "code",
        "colab": {}
      },
      "source": [
        "lines.hi = lines.hi.apply(lambda x : 'START_ '+ x + ' _END')"
      ],
      "execution_count": 0,
      "outputs": []
    },
    {
      "cell_type": "code",
      "metadata": {
        "id": "UGFMbABV42D_",
        "colab_type": "code",
        "colab": {}
      },
      "source": [
        "all_eng_words=set()\n",
        "for eng in lines.eng:\n",
        "    for word in eng.split():\n",
        "        if word not in all_eng_words:\n",
        "            all_eng_words.add(word)\n",
        "    \n",
        "all_french_words=set()\n",
        "for hi in lines.hi:\n",
        "    for word in hi.split():\n",
        "        if word not in all_french_words:\n",
        "            all_french_words.add(word)"
      ],
      "execution_count": 0,
      "outputs": []
    },
    {
      "cell_type": "code",
      "metadata": {
        "id": "0p7a6dUc42ED",
        "colab_type": "code",
        "outputId": "1be9c961-3b73-4260-dddb-f85bd7a4f485",
        "colab": {
          "base_uri": "https://localhost:8080/",
          "height": 33
        }
      },
      "source": [
        "len(all_eng_words), len(all_french_words)"
      ],
      "execution_count": 0,
      "outputs": [
        {
          "output_type": "execute_result",
          "data": {
            "text/plain": [
              "(1743, 1111)"
            ]
          },
          "metadata": {
            "tags": []
          },
          "execution_count": 22
        }
      ]
    },
    {
      "cell_type": "code",
      "metadata": {
        "id": "EEfDFPSG42EH",
        "colab_type": "code",
        "outputId": "69979e10-3d19-460d-9f30-459f11cbc860",
        "colab": {
          "base_uri": "https://localhost:8080/",
          "height": 33
        }
      },
      "source": [
        "lenght_list=[]\n",
        "for l in lines.hi:\n",
        "    lenght_list.append(len(l.split(' ')))\n",
        "np.max(lenght_list)"
      ],
      "execution_count": 0,
      "outputs": [
        {
          "output_type": "execute_result",
          "data": {
            "text/plain": [
              "70"
            ]
          },
          "metadata": {
            "tags": []
          },
          "execution_count": 17
        }
      ]
    },
    {
      "cell_type": "code",
      "metadata": {
        "id": "4Qwr9tsO42EK",
        "colab_type": "code",
        "outputId": "03cda621-0904-4acd-ef76-ea096ffa6a77",
        "colab": {
          "base_uri": "https://localhost:8080/",
          "height": 33
        }
      },
      "source": [
        "lenght_list=[]\n",
        "for l in lines.eng:\n",
        "    lenght_list.append(len(l.split(' ')))\n",
        "np.max(lenght_list)"
      ],
      "execution_count": 0,
      "outputs": [
        {
          "output_type": "execute_result",
          "data": {
            "text/plain": [
              "63"
            ]
          },
          "metadata": {
            "tags": []
          },
          "execution_count": 18
        }
      ]
    },
    {
      "cell_type": "code",
      "metadata": {
        "id": "8dGRwkJD42EO",
        "colab_type": "code",
        "outputId": "7fe41a75-a64d-4c61-8448-e5bd7971d077",
        "colab": {
          "base_uri": "https://localhost:8080/",
          "height": 33
        }
      },
      "source": [
        "input_words = sorted(list(all_eng_words))\n",
        "target_words = sorted(list(all_french_words))\n",
        "num_encoder_tokens = len(all_eng_words)\n",
        "num_decoder_tokens = len(all_french_words)\n",
        "max_encoder_seq_length = max([len(input_text.split(' ')) for input_text in lines.eng])\n",
        "max_decoder_seq_length = max([len(target_text.split(' ')) for target_text in lines.hi])\n",
        "print(num_decoder_tokens)\n",
        "\n",
        "# del all_eng_words, all_french_words"
      ],
      "execution_count": 0,
      "outputs": [
        {
          "output_type": "stream",
          "text": [
            "1111\n"
          ],
          "name": "stdout"
        }
      ]
    },
    {
      "cell_type": "code",
      "metadata": {
        "id": "uk5oXeZa42EQ",
        "colab_type": "code",
        "colab": {}
      },
      "source": [
        "input_token_index = dict(\n",
        "    [(word, i) for i, word in enumerate(input_words)])\n",
        "target_token_index = dict(\n",
        "    [(word, i) for i, word in enumerate(target_words)])"
      ],
      "execution_count": 0,
      "outputs": []
    },
    {
      "cell_type": "code",
      "metadata": {
        "id": "B_LQuPf142ER",
        "colab_type": "code",
        "outputId": "a48dfa52-20c2-45e4-ebe5-fc660d151703",
        "colab": {
          "base_uri": "https://localhost:8080/",
          "height": 33
        }
      },
      "source": [
        "len(lines.hi)*16*num_decoder_tokens"
      ],
      "execution_count": 0,
      "outputs": [
        {
          "output_type": "execute_result",
          "data": {
            "text/plain": [
              "24708640"
            ]
          },
          "metadata": {
            "tags": []
          },
          "execution_count": 113
        }
      ]
    },
    {
      "cell_type": "code",
      "metadata": {
        "id": "-DVHySkg42EV",
        "colab_type": "code",
        "colab": {}
      },
      "source": [
        "encoder_input_data = np.zeros(\n",
        "    (len(lines.eng), max_encoder_seq_length),\n",
        "    dtype='float32')\n",
        "decoder_input_data = np.zeros(\n",
        "    (len(lines.hi), max_decoder_seq_length),\n",
        "    dtype='float32')\n",
        "decoder_target_data = np.zeros(\n",
        "    (len(lines.hi), max_decoder_seq_length, num_decoder_tokens),\n",
        "    dtype='float32')"
      ],
      "execution_count": 0,
      "outputs": []
    },
    {
      "cell_type": "code",
      "metadata": {
        "id": "VuZsMoZf42EX",
        "colab_type": "code",
        "colab": {}
      },
      "source": [
        "for i, (input_text, target_text) in enumerate(zip(lines.eng, lines.hi)):\n",
        "    for t, word in enumerate(input_text.split()):\n",
        "        encoder_input_data[i, t] = input_token_index[word]\n",
        "    for t, word in enumerate(target_text.split()):\n",
        "        # decoder_target_data is ahead of decoder_input_data by one timestep\n",
        "        decoder_input_data[i, t] = target_token_index[word]\n",
        "        if t > 0:\n",
        "            # decoder_target_data will be ahead by one timestep\n",
        "            # and will not include the start character.\n",
        "            decoder_target_data[i, t - 1, target_token_index[word]] = 1."
      ],
      "execution_count": 0,
      "outputs": []
    },
    {
      "cell_type": "markdown",
      "metadata": {
        "id": "lzO-F4aL42Eb",
        "colab_type": "text"
      },
      "source": [
        "### Build keras encoder-decoder model"
      ]
    },
    {
      "cell_type": "code",
      "metadata": {
        "id": "95jYCCjZ42Ed",
        "colab_type": "code",
        "colab": {}
      },
      "source": [
        "embedding_size = 50"
      ],
      "execution_count": 0,
      "outputs": []
    },
    {
      "cell_type": "code",
      "metadata": {
        "id": "ueLtLi2X42Eh",
        "colab_type": "code",
        "outputId": "a87684e6-22f4-44a2-8f6d-b7088d90cbe6",
        "colab": {
          "base_uri": "https://localhost:8080/",
          "height": 33
        }
      },
      "source": [
        "from keras.layers import Input, LSTM, Embedding, Dense\n",
        "from keras.models import Model\n",
        "from keras.utils import plot_model"
      ],
      "execution_count": 0,
      "outputs": [
        {
          "output_type": "stream",
          "text": [
            "Using TensorFlow backend.\n"
          ],
          "name": "stderr"
        }
      ]
    },
    {
      "cell_type": "markdown",
      "metadata": {
        "id": "w19qbtJ242El",
        "colab_type": "text"
      },
      "source": [
        "#### Encoder model"
      ]
    },
    {
      "cell_type": "code",
      "metadata": {
        "id": "Ib9QiiNz42En",
        "colab_type": "code",
        "outputId": "63b95321-8aa1-491a-f364-0077ef8a835e",
        "colab": {
          "base_uri": "https://localhost:8080/",
          "height": 33
        }
      },
      "source": [
        "encoder_inputs = Input(shape=(None,) ,name='encoder_inputs')\n",
        "en_x=  Embedding(num_encoder_tokens, embedding_size)(encoder_inputs)\n",
        "encoder = LSTM(50, return_state=True)\n",
        "encoder_outputs, state_h, state_c = encoder(en_x)\n",
        "# We discard `encoder_outputs` and only keep the states.\n",
        "encoder_states = [state_h, state_c]\n",
        "print(encoder_inputs.name)"
      ],
      "execution_count": 0,
      "outputs": [
        {
          "output_type": "stream",
          "text": [
            "encoder_inputs:0\n"
          ],
          "name": "stdout"
        }
      ]
    },
    {
      "cell_type": "markdown",
      "metadata": {
        "id": "hhwR3M5Y42Es",
        "colab_type": "text"
      },
      "source": [
        "#### Decoder model"
      ]
    },
    {
      "cell_type": "code",
      "metadata": {
        "id": "hqsmRcp342Eu",
        "colab_type": "code",
        "outputId": "c17a9950-4e99-495f-cd28-3a6d066dc1e2",
        "colab": {
          "base_uri": "https://localhost:8080/",
          "height": 33
        }
      },
      "source": [
        "# Set up the decoder, using `encoder_states` as initial state.\n",
        "decoder_inputs = Input(shape=(None,),name='decoder_inputs')\n",
        "\n",
        "dex=  Embedding(num_decoder_tokens, embedding_size)\n",
        "\n",
        "final_dex= dex(decoder_inputs)\n",
        "\n",
        "\n",
        "decoder_lstm = LSTM(50, return_sequences=True, return_state=True)\n",
        "\n",
        "decoder_outputs, _, _ = decoder_lstm(final_dex,\n",
        "                                     initial_state=encoder_states)\n",
        "\n",
        "decoder_dense = Dense(num_decoder_tokens, activation='softmax',name='decoder_output')\n",
        "\n",
        "decoder_outputs = decoder_dense(decoder_outputs)\n",
        "\n",
        "model = Model([encoder_inputs, decoder_inputs], decoder_outputs)\n",
        "\n",
        "model.compile(optimizer='rmsprop', loss='categorical_crossentropy', metrics=['acc'])\n",
        "print(decoder_outputs.name)"
      ],
      "execution_count": 0,
      "outputs": [
        {
          "output_type": "stream",
          "text": [
            "decoder_output_1/truediv:0\n"
          ],
          "name": "stdout"
        }
      ]
    },
    {
      "cell_type": "code",
      "metadata": {
        "id": "GhiMjCjc42E2",
        "colab_type": "code",
        "outputId": "a9eb6ff8-cbb4-42a3-fa73-a8c373435285",
        "colab": {
          "base_uri": "https://localhost:8080/",
          "height": 400
        }
      },
      "source": [
        "model.summary()"
      ],
      "execution_count": 0,
      "outputs": [
        {
          "output_type": "stream",
          "text": [
            "__________________________________________________________________________________________________\n",
            "Layer (type)                    Output Shape         Param #     Connected to                     \n",
            "==================================================================================================\n",
            "encoder_inputs (InputLayer)     (None, None)         0                                            \n",
            "__________________________________________________________________________________________________\n",
            "decoder_inputs (InputLayer)     (None, None)         0                                            \n",
            "__________________________________________________________________________________________________\n",
            "embedding_1 (Embedding)         (None, None, 50)     87150       encoder_inputs[0][0]             \n",
            "__________________________________________________________________________________________________\n",
            "embedding_2 (Embedding)         (None, None, 50)     55550       decoder_inputs[0][0]             \n",
            "__________________________________________________________________________________________________\n",
            "lstm_1 (LSTM)                   [(None, 50), (None,  20200       embedding_1[0][0]                \n",
            "__________________________________________________________________________________________________\n",
            "lstm_2 (LSTM)                   [(None, None, 50), ( 20200       embedding_2[0][0]                \n",
            "                                                                 lstm_1[0][1]                     \n",
            "                                                                 lstm_1[0][2]                     \n",
            "__________________________________________________________________________________________________\n",
            "dense_1 (Dense)                 (None, None, 1111)   56661       lstm_2[0][0]                     \n",
            "==================================================================================================\n",
            "Total params: 239,761\n",
            "Trainable params: 239,761\n",
            "Non-trainable params: 0\n",
            "__________________________________________________________________________________________________\n"
          ],
          "name": "stdout"
        }
      ]
    },
    {
      "cell_type": "markdown",
      "metadata": {
        "id": "e079qnaV42E8",
        "colab_type": "text"
      },
      "source": [
        "#### Fit the model"
      ]
    },
    {
      "cell_type": "code",
      "metadata": {
        "id": "2vir7O1d42E9",
        "colab_type": "code",
        "outputId": "11a803d1-2247-4f72-ec78-982c3cd9728a",
        "colab": {
          "base_uri": "https://localhost:8080/",
          "height": 13403
        }
      },
      "source": [
        "model.fit([encoder_input_data, decoder_input_data], decoder_target_data,\n",
        "          batch_size=128,\n",
        "          epochs=400,\n",
        "          validation_split=0.05)"
      ],
      "execution_count": 0,
      "outputs": [
        {
          "output_type": "stream",
          "text": [
            "Train on 1320 samples, validate on 70 samples\n",
            "Epoch 1/400\n",
            "1320/1320 [==============================] - 3s 2ms/step - loss: 0.4993 - acc: 0.0143 - val_loss: 0.5173 - val_acc: 0.0143\n",
            "Epoch 2/400\n",
            "1320/1320 [==============================] - 3s 3ms/step - loss: 0.4673 - acc: 0.0143 - val_loss: 0.4987 - val_acc: 0.0143\n",
            "Epoch 3/400\n",
            "1320/1320 [==============================] - 3s 3ms/step - loss: 0.4533 - acc: 0.0143 - val_loss: 0.4930 - val_acc: 0.0143\n",
            "Epoch 4/400\n",
            "1320/1320 [==============================] - 3s 3ms/step - loss: 0.4487 - acc: 0.0143 - val_loss: 0.4907 - val_acc: 0.0143\n",
            "Epoch 5/400\n",
            "1320/1320 [==============================] - 4s 3ms/step - loss: 0.4466 - acc: 0.0143 - val_loss: 0.4895 - val_acc: 0.0143\n",
            "Epoch 6/400\n",
            "1320/1320 [==============================] - 4s 3ms/step - loss: 0.4447 - acc: 0.0143 - val_loss: 0.4864 - val_acc: 0.0143\n",
            "Epoch 7/400\n",
            "1320/1320 [==============================] - 4s 3ms/step - loss: 0.4427 - acc: 0.0143 - val_loss: 0.4846 - val_acc: 0.0143\n",
            "Epoch 8/400\n",
            "1320/1320 [==============================] - 3s 3ms/step - loss: 0.4406 - acc: 0.0143 - val_loss: 0.4818 - val_acc: 0.0143\n",
            "Epoch 9/400\n",
            "1320/1320 [==============================] - 3s 3ms/step - loss: 0.4385 - acc: 0.0143 - val_loss: 0.4804 - val_acc: 0.0143\n",
            "Epoch 10/400\n",
            "1320/1320 [==============================] - 3s 3ms/step - loss: 0.4363 - acc: 0.0143 - val_loss: 0.4784 - val_acc: 0.0143\n",
            "Epoch 11/400\n",
            " 768/1320 [================>.............] - ETA: 1s - loss: 0.4324 - acc: 0.0143"
          ],
          "name": "stdout"
        },
        {
          "output_type": "stream",
          "text": [
            "1320/1320 [==============================] - 3s 3ms/step - loss: 0.4338 - acc: 0.0143 - val_loss: 0.4767 - val_acc: 0.0143\n",
            "Epoch 12/400\n",
            "1320/1320 [==============================] - 3s 3ms/step - loss: 0.4315 - acc: 0.0143 - val_loss: 0.4753 - val_acc: 0.0143\n",
            "Epoch 13/400\n",
            "1320/1320 [==============================] - 3s 3ms/step - loss: 0.4291 - acc: 0.0143 - val_loss: 0.4734 - val_acc: 0.0143\n",
            "Epoch 14/400\n",
            "1320/1320 [==============================] - 3s 3ms/step - loss: 0.4268 - acc: 0.0143 - val_loss: 0.4702 - val_acc: 0.0143\n",
            "Epoch 15/400\n",
            "1320/1320 [==============================] - 3s 3ms/step - loss: 0.4244 - acc: 0.0143 - val_loss: 0.4689 - val_acc: 0.0143\n",
            "Epoch 16/400\n",
            "1320/1320 [==============================] - 3s 3ms/step - loss: 0.4221 - acc: 0.0143 - val_loss: 0.4665 - val_acc: 0.0143\n",
            "Epoch 17/400\n",
            "1320/1320 [==============================] - 3s 3ms/step - loss: 0.4199 - acc: 0.0143 - val_loss: 0.4646 - val_acc: 0.0143\n",
            "Epoch 18/400\n",
            "1320/1320 [==============================] - 3s 3ms/step - loss: 0.4175 - acc: 0.0143 - val_loss: 0.4627 - val_acc: 0.0143\n",
            "Epoch 19/400\n",
            "1320/1320 [==============================] - 3s 3ms/step - loss: 0.4154 - acc: 0.0143 - val_loss: 0.4611 - val_acc: 0.0143\n",
            "Epoch 20/400\n",
            "1320/1320 [==============================] - 3s 3ms/step - loss: 0.4131 - acc: 0.0143 - val_loss: 0.4588 - val_acc: 0.0143\n",
            "Epoch 21/400\n",
            "1320/1320 [==============================] - 3s 3ms/step - loss: 0.4111 - acc: 0.0143 - val_loss: 0.4575 - val_acc: 0.0143\n"
          ],
          "name": "stdout"
        },
        {
          "output_type": "stream",
          "text": [
            "Epoch 22/400\n",
            "1320/1320 [==============================] - 3s 3ms/step - loss: 0.4091 - acc: 0.0143 - val_loss: 0.4563 - val_acc: 0.0143\n",
            "Epoch 23/400\n",
            "1320/1320 [==============================] - 3s 3ms/step - loss: 0.4073 - acc: 0.0143 - val_loss: 0.4546 - val_acc: 0.0141\n",
            "Epoch 24/400\n",
            "1320/1320 [==============================] - 3s 3ms/step - loss: 0.4055 - acc: 0.0143 - val_loss: 0.4528 - val_acc: 0.0143\n",
            "Epoch 25/400\n",
            "1320/1320 [==============================] - 3s 3ms/step - loss: 0.4034 - acc: 0.0144 - val_loss: 0.4517 - val_acc: 0.0143\n",
            "Epoch 26/400\n",
            "1320/1320 [==============================] - 3s 3ms/step - loss: 0.4019 - acc: 0.0144 - val_loss: 0.4504 - val_acc: 0.0143\n",
            "Epoch 27/400\n",
            "1320/1320 [==============================] - 3s 3ms/step - loss: 0.4000 - acc: 0.0144 - val_loss: 0.4490 - val_acc: 0.0145\n",
            "Epoch 28/400\n",
            "1320/1320 [==============================] - 3s 3ms/step - loss: 0.3984 - acc: 0.0144 - val_loss: 0.4472 - val_acc: 0.0143\n",
            "Epoch 29/400\n",
            "1320/1320 [==============================] - 3s 3ms/step - loss: 0.3967 - acc: 0.0144 - val_loss: 0.4462 - val_acc: 0.0147\n",
            "Epoch 30/400\n",
            "1320/1320 [==============================] - 3s 3ms/step - loss: 0.3952 - acc: 0.0145 - val_loss: 0.4449 - val_acc: 0.0155\n",
            "Epoch 31/400\n",
            "1320/1320 [==============================] - 3s 3ms/step - loss: 0.3936 - acc: 0.0147 - val_loss: 0.4434 - val_acc: 0.0149\n",
            "Epoch 32/400\n",
            "1152/1320 [=========================>....] - ETA: 0s - loss: 0.3866 - acc: 0.0147"
          ],
          "name": "stdout"
        },
        {
          "output_type": "stream",
          "text": [
            "1320/1320 [==============================] - 3s 3ms/step - loss: 0.3919 - acc: 0.0147 - val_loss: 0.4425 - val_acc: 0.0149\n",
            "Epoch 33/400\n",
            "1320/1320 [==============================] - 3s 3ms/step - loss: 0.3905 - acc: 0.0148 - val_loss: 0.4407 - val_acc: 0.0151\n",
            "Epoch 34/400\n",
            "1320/1320 [==============================] - 3s 3ms/step - loss: 0.3890 - acc: 0.0148 - val_loss: 0.4390 - val_acc: 0.0151\n",
            "Epoch 35/400\n",
            "1320/1320 [==============================] - 3s 3ms/step - loss: 0.3873 - acc: 0.0151 - val_loss: 0.4368 - val_acc: 0.0153\n",
            "Epoch 36/400\n",
            "1320/1320 [==============================] - 3s 3ms/step - loss: 0.3861 - acc: 0.0150 - val_loss: 0.4368 - val_acc: 0.0151\n",
            "Epoch 37/400\n",
            "1320/1320 [==============================] - 3s 3ms/step - loss: 0.3844 - acc: 0.0152 - val_loss: 0.4351 - val_acc: 0.0147\n",
            "Epoch 38/400\n",
            "1320/1320 [==============================] - 3s 3ms/step - loss: 0.3829 - acc: 0.0153 - val_loss: 0.4333 - val_acc: 0.0151\n",
            "Epoch 39/400\n",
            "1320/1320 [==============================] - 4s 3ms/step - loss: 0.3815 - acc: 0.0153 - val_loss: 0.4319 - val_acc: 0.0149\n",
            "Epoch 40/400\n",
            "1320/1320 [==============================] - 4s 3ms/step - loss: 0.3801 - acc: 0.0154 - val_loss: 0.4304 - val_acc: 0.0153\n",
            "Epoch 41/400\n",
            "1320/1320 [==============================] - 3s 3ms/step - loss: 0.3786 - acc: 0.0156 - val_loss: 0.4297 - val_acc: 0.0153\n",
            "Epoch 42/400\n",
            "1320/1320 [==============================] - 3s 3ms/step - loss: 0.3770 - acc: 0.0156 - val_loss: 0.4290 - val_acc: 0.0147\n"
          ],
          "name": "stdout"
        },
        {
          "output_type": "stream",
          "text": [
            "Epoch 43/400\n",
            "1320/1320 [==============================] - 3s 3ms/step - loss: 0.3758 - acc: 0.0156 - val_loss: 0.4287 - val_acc: 0.0149\n",
            "Epoch 44/400\n",
            "1320/1320 [==============================] - 3s 3ms/step - loss: 0.3742 - acc: 0.0157 - val_loss: 0.4262 - val_acc: 0.0153\n",
            "Epoch 45/400\n",
            "1320/1320 [==============================] - 3s 3ms/step - loss: 0.3730 - acc: 0.0158 - val_loss: 0.4247 - val_acc: 0.0155\n",
            "Epoch 46/400\n",
            "1320/1320 [==============================] - 3s 3ms/step - loss: 0.3714 - acc: 0.0159 - val_loss: 0.4240 - val_acc: 0.0155\n",
            "Epoch 47/400\n",
            "1320/1320 [==============================] - 3s 3ms/step - loss: 0.3700 - acc: 0.0160 - val_loss: 0.4221 - val_acc: 0.0155\n",
            "Epoch 48/400\n",
            "1320/1320 [==============================] - 3s 3ms/step - loss: 0.3685 - acc: 0.0161 - val_loss: 0.4213 - val_acc: 0.0155\n",
            "Epoch 49/400\n",
            "1320/1320 [==============================] - 3s 3ms/step - loss: 0.3670 - acc: 0.0162 - val_loss: 0.4195 - val_acc: 0.0161\n",
            "Epoch 50/400\n",
            "1320/1320 [==============================] - 3s 3ms/step - loss: 0.3657 - acc: 0.0163 - val_loss: 0.4193 - val_acc: 0.0159\n",
            "Epoch 51/400\n",
            "1320/1320 [==============================] - 3s 3ms/step - loss: 0.3641 - acc: 0.0164 - val_loss: 0.4178 - val_acc: 0.0161\n",
            "Epoch 52/400\n",
            "1320/1320 [==============================] - 3s 3ms/step - loss: 0.3628 - acc: 0.0166 - val_loss: 0.4176 - val_acc: 0.0161\n",
            "Epoch 53/400\n",
            "1152/1320 [=========================>....] - ETA: 0s - loss: 0.3676 - acc: 0.0165"
          ],
          "name": "stdout"
        },
        {
          "output_type": "stream",
          "text": [
            "1320/1320 [==============================] - 3s 3ms/step - loss: 0.3619 - acc: 0.0166 - val_loss: 0.4164 - val_acc: 0.0157\n",
            "Epoch 54/400\n",
            "1320/1320 [==============================] - 3s 3ms/step - loss: 0.3598 - acc: 0.0168 - val_loss: 0.4150 - val_acc: 0.0161\n",
            "Epoch 55/400\n",
            "1320/1320 [==============================] - 3s 3ms/step - loss: 0.3584 - acc: 0.0169 - val_loss: 0.4136 - val_acc: 0.0159\n",
            "Epoch 56/400\n",
            "1320/1320 [==============================] - 3s 3ms/step - loss: 0.3569 - acc: 0.0172 - val_loss: 0.4133 - val_acc: 0.0157\n",
            "Epoch 57/400\n",
            "1320/1320 [==============================] - 3s 3ms/step - loss: 0.3559 - acc: 0.0172 - val_loss: 0.4107 - val_acc: 0.0159\n",
            "Epoch 58/400\n",
            "1320/1320 [==============================] - 3s 3ms/step - loss: 0.3540 - acc: 0.0173 - val_loss: 0.4091 - val_acc: 0.0159\n",
            "Epoch 59/400\n",
            "1320/1320 [==============================] - 3s 3ms/step - loss: 0.3525 - acc: 0.0174 - val_loss: 0.4082 - val_acc: 0.0157\n",
            "Epoch 60/400\n",
            "1320/1320 [==============================] - 3s 3ms/step - loss: 0.3510 - acc: 0.0177 - val_loss: 0.4070 - val_acc: 0.0157\n",
            "Epoch 61/400\n",
            "1320/1320 [==============================] - 3s 3ms/step - loss: 0.3493 - acc: 0.0180 - val_loss: 0.4068 - val_acc: 0.0161\n",
            "Epoch 62/400\n",
            "1320/1320 [==============================] - 3s 3ms/step - loss: 0.3483 - acc: 0.0179 - val_loss: 0.4047 - val_acc: 0.0161\n",
            "Epoch 63/400\n",
            "1320/1320 [==============================] - 3s 3ms/step - loss: 0.3466 - acc: 0.0182 - val_loss: 0.4032 - val_acc: 0.0161\n"
          ],
          "name": "stdout"
        },
        {
          "output_type": "stream",
          "text": [
            "Epoch 64/400\n",
            "1320/1320 [==============================] - 3s 3ms/step - loss: 0.3446 - acc: 0.0184 - val_loss: 0.4029 - val_acc: 0.0163\n",
            "Epoch 65/400\n",
            "1320/1320 [==============================] - 3s 3ms/step - loss: 0.3434 - acc: 0.0187 - val_loss: 0.4009 - val_acc: 0.0161\n",
            "Epoch 66/400\n",
            "1320/1320 [==============================] - 3s 3ms/step - loss: 0.3415 - acc: 0.0187 - val_loss: 0.3984 - val_acc: 0.0163\n",
            "Epoch 67/400\n",
            "1320/1320 [==============================] - 3s 3ms/step - loss: 0.3401 - acc: 0.0190 - val_loss: 0.3962 - val_acc: 0.0159\n",
            "Epoch 68/400\n",
            "1320/1320 [==============================] - 3s 3ms/step - loss: 0.3386 - acc: 0.0191 - val_loss: 0.3970 - val_acc: 0.0161\n",
            "Epoch 69/400\n",
            "1320/1320 [==============================] - 3s 3ms/step - loss: 0.3369 - acc: 0.0193 - val_loss: 0.3958 - val_acc: 0.0163\n",
            "Epoch 70/400\n",
            "1320/1320 [==============================] - 3s 3ms/step - loss: 0.3355 - acc: 0.0194 - val_loss: 0.3934 - val_acc: 0.0163\n",
            "Epoch 71/400\n",
            "1320/1320 [==============================] - 3s 3ms/step - loss: 0.3338 - acc: 0.0197 - val_loss: 0.3907 - val_acc: 0.0169\n",
            "Epoch 72/400\n",
            "1320/1320 [==============================] - 3s 3ms/step - loss: 0.3318 - acc: 0.0200 - val_loss: 0.3911 - val_acc: 0.0176\n",
            "Epoch 73/400\n",
            "1320/1320 [==============================] - 3s 3ms/step - loss: 0.3306 - acc: 0.0198 - val_loss: 0.3889 - val_acc: 0.0171\n",
            "Epoch 74/400\n",
            "1152/1320 [=========================>....] - ETA: 0s - loss: 0.3258 - acc: 0.0202"
          ],
          "name": "stdout"
        },
        {
          "output_type": "stream",
          "text": [
            "1320/1320 [==============================] - 3s 3ms/step - loss: 0.3288 - acc: 0.0202 - val_loss: 0.3883 - val_acc: 0.0171\n",
            "Epoch 75/400\n",
            "1320/1320 [==============================] - 3s 3ms/step - loss: 0.3277 - acc: 0.0203 - val_loss: 0.3862 - val_acc: 0.0167\n",
            "Epoch 76/400\n",
            "1320/1320 [==============================] - 3s 3ms/step - loss: 0.3255 - acc: 0.0204 - val_loss: 0.3833 - val_acc: 0.0173\n",
            "Epoch 77/400\n",
            "1320/1320 [==============================] - 3s 3ms/step - loss: 0.3240 - acc: 0.0206 - val_loss: 0.3822 - val_acc: 0.0176\n",
            "Epoch 78/400\n",
            "1320/1320 [==============================] - 3s 3ms/step - loss: 0.3223 - acc: 0.0208 - val_loss: 0.3837 - val_acc: 0.0171\n",
            "Epoch 79/400\n",
            "1320/1320 [==============================] - 3s 3ms/step - loss: 0.3209 - acc: 0.0210 - val_loss: 0.3789 - val_acc: 0.0178\n",
            "Epoch 80/400\n",
            "1320/1320 [==============================] - 3s 3ms/step - loss: 0.3189 - acc: 0.0208 - val_loss: 0.3803 - val_acc: 0.0171\n",
            "Epoch 81/400\n",
            "1320/1320 [==============================] - 3s 3ms/step - loss: 0.3181 - acc: 0.0211 - val_loss: 0.3762 - val_acc: 0.0176\n",
            "Epoch 82/400\n",
            "1320/1320 [==============================] - 3s 3ms/step - loss: 0.3156 - acc: 0.0213 - val_loss: 0.3747 - val_acc: 0.0180\n",
            "Epoch 83/400\n",
            "1320/1320 [==============================] - 3s 3ms/step - loss: 0.3146 - acc: 0.0215 - val_loss: 0.3719 - val_acc: 0.0184\n",
            "Epoch 84/400\n",
            "1320/1320 [==============================] - 3s 3ms/step - loss: 0.3127 - acc: 0.0216 - val_loss: 0.3751 - val_acc: 0.0180\n"
          ],
          "name": "stdout"
        },
        {
          "output_type": "stream",
          "text": [
            "Epoch 85/400\n",
            "1320/1320 [==============================] - 3s 3ms/step - loss: 0.3110 - acc: 0.0218 - val_loss: 0.3702 - val_acc: 0.0182\n",
            "Epoch 86/400\n",
            "1320/1320 [==============================] - 3s 3ms/step - loss: 0.3096 - acc: 0.0219 - val_loss: 0.3688 - val_acc: 0.0178\n",
            "Epoch 87/400\n",
            "1320/1320 [==============================] - 3s 3ms/step - loss: 0.3079 - acc: 0.0221 - val_loss: 0.3672 - val_acc: 0.0186\n",
            "Epoch 88/400\n",
            "1320/1320 [==============================] - 3s 3ms/step - loss: 0.3062 - acc: 0.0224 - val_loss: 0.3668 - val_acc: 0.0186\n",
            "Epoch 89/400\n",
            "1320/1320 [==============================] - 3s 3ms/step - loss: 0.3046 - acc: 0.0224 - val_loss: 0.3648 - val_acc: 0.0188\n",
            "Epoch 90/400\n",
            "1320/1320 [==============================] - 3s 3ms/step - loss: 0.3031 - acc: 0.0226 - val_loss: 0.3640 - val_acc: 0.0188\n",
            "Epoch 91/400\n",
            "1320/1320 [==============================] - 3s 3ms/step - loss: 0.3017 - acc: 0.0226 - val_loss: 0.3627 - val_acc: 0.0186\n",
            "Epoch 92/400\n",
            "1320/1320 [==============================] - 3s 3ms/step - loss: 0.2998 - acc: 0.0231 - val_loss: 0.3609 - val_acc: 0.0186\n",
            "Epoch 93/400\n",
            "1320/1320 [==============================] - 3s 3ms/step - loss: 0.2984 - acc: 0.0233 - val_loss: 0.3591 - val_acc: 0.0192\n",
            "Epoch 94/400\n",
            "1320/1320 [==============================] - 3s 3ms/step - loss: 0.2964 - acc: 0.0236 - val_loss: 0.3591 - val_acc: 0.0184\n",
            "Epoch 95/400\n",
            "1152/1320 [=========================>....] - ETA: 0s - loss: 0.2923 - acc: 0.0238"
          ],
          "name": "stdout"
        },
        {
          "output_type": "stream",
          "text": [
            "1320/1320 [==============================] - 3s 3ms/step - loss: 0.2950 - acc: 0.0237 - val_loss: 0.3568 - val_acc: 0.0200\n",
            "Epoch 96/400\n",
            "1320/1320 [==============================] - 3s 3ms/step - loss: 0.2933 - acc: 0.0240 - val_loss: 0.3548 - val_acc: 0.0194\n",
            "Epoch 97/400\n",
            "1320/1320 [==============================] - 3s 3ms/step - loss: 0.2919 - acc: 0.0242 - val_loss: 0.3530 - val_acc: 0.0200\n",
            "Epoch 98/400\n",
            "1320/1320 [==============================] - 3s 3ms/step - loss: 0.2900 - acc: 0.0245 - val_loss: 0.3522 - val_acc: 0.0204\n",
            "Epoch 99/400\n",
            "1320/1320 [==============================] - 3s 3ms/step - loss: 0.2889 - acc: 0.0246 - val_loss: 0.3504 - val_acc: 0.0196\n",
            "Epoch 100/400\n",
            "1320/1320 [==============================] - 4s 3ms/step - loss: 0.2869 - acc: 0.0248 - val_loss: 0.3495 - val_acc: 0.0206\n",
            "Epoch 101/400\n",
            "1320/1320 [==============================] - 3s 3ms/step - loss: 0.2851 - acc: 0.0250 - val_loss: 0.3482 - val_acc: 0.0206\n",
            "Epoch 102/400\n",
            "1320/1320 [==============================] - 3s 3ms/step - loss: 0.2842 - acc: 0.0253 - val_loss: 0.3464 - val_acc: 0.0202\n",
            "Epoch 103/400\n",
            "1320/1320 [==============================] - 3s 3ms/step - loss: 0.2820 - acc: 0.0256 - val_loss: 0.3454 - val_acc: 0.0210\n",
            "Epoch 104/400\n",
            "1320/1320 [==============================] - 3s 3ms/step - loss: 0.2804 - acc: 0.0258 - val_loss: 0.3434 - val_acc: 0.0216\n",
            "Epoch 105/400\n",
            "1320/1320 [==============================] - 3s 3ms/step - loss: 0.2792 - acc: 0.0259 - val_loss: 0.3418 - val_acc: 0.0212\n"
          ],
          "name": "stdout"
        },
        {
          "output_type": "stream",
          "text": [
            "Epoch 106/400\n",
            "1320/1320 [==============================] - 3s 3ms/step - loss: 0.2775 - acc: 0.0263 - val_loss: 0.3409 - val_acc: 0.0214\n",
            "Epoch 107/400\n",
            "1320/1320 [==============================] - 3s 3ms/step - loss: 0.2757 - acc: 0.0265 - val_loss: 0.3403 - val_acc: 0.0216\n",
            "Epoch 108/400\n",
            "1320/1320 [==============================] - 3s 3ms/step - loss: 0.2747 - acc: 0.0267 - val_loss: 0.3380 - val_acc: 0.0216\n",
            "Epoch 109/400\n",
            "1320/1320 [==============================] - 3s 3ms/step - loss: 0.2729 - acc: 0.0269 - val_loss: 0.3366 - val_acc: 0.0218\n",
            "Epoch 110/400\n",
            "1320/1320 [==============================] - 3s 3ms/step - loss: 0.2714 - acc: 0.0273 - val_loss: 0.3365 - val_acc: 0.0224\n",
            "Epoch 111/400\n",
            "1320/1320 [==============================] - 3s 3ms/step - loss: 0.2692 - acc: 0.0276 - val_loss: 0.3348 - val_acc: 0.0222\n",
            "Epoch 112/400\n",
            "1320/1320 [==============================] - 3s 3ms/step - loss: 0.2685 - acc: 0.0279 - val_loss: 0.3328 - val_acc: 0.0224\n",
            "Epoch 113/400\n",
            "1320/1320 [==============================] - 3s 3ms/step - loss: 0.2667 - acc: 0.0281 - val_loss: 0.3312 - val_acc: 0.0218\n",
            "Epoch 114/400\n",
            "1320/1320 [==============================] - 3s 3ms/step - loss: 0.2650 - acc: 0.0284 - val_loss: 0.3331 - val_acc: 0.0229\n",
            "Epoch 115/400\n",
            "1320/1320 [==============================] - 3s 3ms/step - loss: 0.2633 - acc: 0.0289 - val_loss: 0.3308 - val_acc: 0.0222\n",
            "Epoch 116/400\n",
            "1152/1320 [=========================>....] - ETA: 0s - loss: 0.2610 - acc: 0.0290"
          ],
          "name": "stdout"
        },
        {
          "output_type": "stream",
          "text": [
            "1320/1320 [==============================] - 3s 3ms/step - loss: 0.2617 - acc: 0.0290 - val_loss: 0.3268 - val_acc: 0.0224\n",
            "Epoch 117/400\n",
            "1320/1320 [==============================] - 4s 3ms/step - loss: 0.2607 - acc: 0.0291 - val_loss: 0.3271 - val_acc: 0.0227\n",
            "Epoch 118/400\n",
            "1320/1320 [==============================] - 4s 3ms/step - loss: 0.2584 - acc: 0.0295 - val_loss: 0.3260 - val_acc: 0.0222\n",
            "Epoch 119/400\n",
            "1320/1320 [==============================] - 3s 3ms/step - loss: 0.2577 - acc: 0.0296 - val_loss: 0.3247 - val_acc: 0.0227\n",
            "Epoch 120/400\n",
            "1320/1320 [==============================] - 3s 3ms/step - loss: 0.2558 - acc: 0.0299 - val_loss: 0.3244 - val_acc: 0.0231\n",
            "Epoch 121/400\n",
            "1320/1320 [==============================] - 3s 3ms/step - loss: 0.2548 - acc: 0.0303 - val_loss: 0.3218 - val_acc: 0.0229\n",
            "Epoch 122/400\n",
            "1320/1320 [==============================] - 3s 3ms/step - loss: 0.2527 - acc: 0.0309 - val_loss: 0.3194 - val_acc: 0.0235\n",
            "Epoch 123/400\n",
            "1320/1320 [==============================] - 3s 3ms/step - loss: 0.2519 - acc: 0.0307 - val_loss: 0.3195 - val_acc: 0.0239\n",
            "Epoch 124/400\n",
            "1320/1320 [==============================] - 3s 3ms/step - loss: 0.2499 - acc: 0.0312 - val_loss: 0.3171 - val_acc: 0.0241\n",
            "Epoch 125/400\n",
            "1320/1320 [==============================] - 3s 3ms/step - loss: 0.2480 - acc: 0.0315 - val_loss: 0.3187 - val_acc: 0.0237\n",
            "Epoch 126/400\n",
            "1280/1320 [============================>.] - ETA: 0s - loss: 0.2490 - acc: 0.0321"
          ],
          "name": "stdout"
        },
        {
          "output_type": "stream",
          "text": [
            "\b\b\b\b\b\b\b\b\b\b\b\b\b\b\b\b\b\b\b\b\b\b\b\b\b\b\b\b\b\b\b\b\b\b\b\b\b\b\b\b\b\b\b\b\b\b\b\b\b\b\b\b\b\b\b\b\b\b\b\b\b\b\b\b\b\b\b\b\b\b\b\b\b\b\b\b\b\b\b\b\b\r1320/1320 [==============================] - 3s 3ms/step - loss: 0.2475 - acc: 0.0319 - val_loss: 0.3136 - val_acc: 0.0235\n",
            "Epoch 127/400\n",
            "1320/1320 [==============================] - 4s 3ms/step - loss: 0.2457 - acc: 0.0321 - val_loss: 0.3136 - val_acc: 0.0247\n",
            "Epoch 128/400\n",
            "1320/1320 [==============================] - 3s 3ms/step - loss: 0.2437 - acc: 0.0323 - val_loss: 0.3156 - val_acc: 0.0235\n",
            "Epoch 129/400\n",
            "1320/1320 [==============================] - 3s 3ms/step - loss: 0.2425 - acc: 0.0327 - val_loss: 0.3114 - val_acc: 0.0239\n",
            "Epoch 130/400\n",
            "1320/1320 [==============================] - 3s 3ms/step - loss: 0.2406 - acc: 0.0328 - val_loss: 0.3095 - val_acc: 0.0241\n",
            "Epoch 131/400\n",
            "1320/1320 [==============================] - 3s 3ms/step - loss: 0.2402 - acc: 0.0330 - val_loss: 0.3085 - val_acc: 0.0239\n",
            "Epoch 132/400\n",
            "1320/1320 [==============================] - 3s 3ms/step - loss: 0.2375 - acc: 0.0335 - val_loss: 0.3109 - val_acc: 0.0245\n",
            "Epoch 133/400\n",
            "1320/1320 [==============================] - 3s 3ms/step - loss: 0.2365 - acc: 0.0337 - val_loss: 0.3042 - val_acc: 0.0249\n",
            "Epoch 134/400\n",
            "1320/1320 [==============================] - 3s 3ms/step - loss: 0.2356 - acc: 0.0338 - val_loss: 0.3053 - val_acc: 0.0251\n",
            "Epoch 135/400\n",
            "1320/1320 [==============================] - 3s 3ms/step - loss: 0.2329 - acc: 0.0346 - val_loss: 0.3027 - val_acc: 0.0255\n",
            "Epoch 136/400\n",
            " 512/1320 [==========>...................] - ETA: 1s - loss: 0.2304 - acc: 0.0336"
          ],
          "name": "stdout"
        },
        {
          "output_type": "stream",
          "text": [
            "1320/1320 [==============================] - 3s 3ms/step - loss: 0.2325 - acc: 0.0344 - val_loss: 0.3021 - val_acc: 0.0255\n",
            "Epoch 137/400\n",
            "1320/1320 [==============================] - 3s 3ms/step - loss: 0.2303 - acc: 0.0351 - val_loss: 0.3015 - val_acc: 0.0257\n",
            "Epoch 138/400\n",
            "1320/1320 [==============================] - 3s 3ms/step - loss: 0.2288 - acc: 0.0352 - val_loss: 0.2995 - val_acc: 0.0261\n",
            "Epoch 139/400\n",
            "1320/1320 [==============================] - 3s 3ms/step - loss: 0.2284 - acc: 0.0353 - val_loss: 0.2974 - val_acc: 0.0263\n",
            "Epoch 140/400\n",
            "1320/1320 [==============================] - 3s 3ms/step - loss: 0.2253 - acc: 0.0358 - val_loss: 0.2974 - val_acc: 0.0255\n",
            "Epoch 141/400\n",
            "1320/1320 [==============================] - 3s 3ms/step - loss: 0.2260 - acc: 0.0356 - val_loss: 0.2954 - val_acc: 0.0263\n",
            "Epoch 142/400\n",
            "1320/1320 [==============================] - 3s 3ms/step - loss: 0.2224 - acc: 0.0365 - val_loss: 0.2948 - val_acc: 0.0257\n",
            "Epoch 143/400\n",
            "1320/1320 [==============================] - 3s 3ms/step - loss: 0.2224 - acc: 0.0364 - val_loss: 0.2927 - val_acc: 0.0265\n",
            "Epoch 144/400\n",
            "1320/1320 [==============================] - 3s 3ms/step - loss: 0.2209 - acc: 0.0367 - val_loss: 0.2918 - val_acc: 0.0278\n",
            "Epoch 145/400\n",
            "1320/1320 [==============================] - 3s 3ms/step - loss: 0.2191 - acc: 0.0371 - val_loss: 0.2914 - val_acc: 0.0282\n",
            "Epoch 146/400\n",
            "1280/1320 [============================>.] - ETA: 0s - loss: 0.2169 - acc: 0.0375"
          ],
          "name": "stdout"
        },
        {
          "output_type": "stream",
          "text": [
            "\b\b\b\b\b\b\b\b\b\b\b\b\b\b\b\b\b\b\b\b\b\b\b\b\b\b\b\b\b\b\b\b\b\b\b\b\b\b\b\b\b\b\b\b\b\b\b\b\b\b\b\b\b\b\b\b\b\b\b\b\b\b\b\b\b\b\b\b\b\b\b\b\b\b\b\b\b\b\b\b\b\r1320/1320 [==============================] - 3s 3ms/step - loss: 0.2173 - acc: 0.0375 - val_loss: 0.2922 - val_acc: 0.0269\n",
            "Epoch 147/400\n",
            "1320/1320 [==============================] - 3s 3ms/step - loss: 0.2167 - acc: 0.0376 - val_loss: 0.2873 - val_acc: 0.0271\n",
            "Epoch 148/400\n",
            "1320/1320 [==============================] - 3s 3ms/step - loss: 0.2153 - acc: 0.0380 - val_loss: 0.2865 - val_acc: 0.0276\n",
            "Epoch 149/400\n",
            "1320/1320 [==============================] - 3s 3ms/step - loss: 0.2127 - acc: 0.0387 - val_loss: 0.2852 - val_acc: 0.0278\n",
            "Epoch 150/400\n",
            "1320/1320 [==============================] - 3s 3ms/step - loss: 0.2126 - acc: 0.0384 - val_loss: 0.2848 - val_acc: 0.0280\n",
            "Epoch 151/400\n",
            "1320/1320 [==============================] - 3s 3ms/step - loss: 0.2107 - acc: 0.0390 - val_loss: 0.2845 - val_acc: 0.0280\n",
            "Epoch 152/400\n",
            "1320/1320 [==============================] - 3s 3ms/step - loss: 0.2090 - acc: 0.0392 - val_loss: 0.2865 - val_acc: 0.0273\n",
            "Epoch 153/400\n",
            "1320/1320 [==============================] - 3s 3ms/step - loss: 0.2078 - acc: 0.0395 - val_loss: 0.2805 - val_acc: 0.0292\n",
            "Epoch 154/400\n",
            "1320/1320 [==============================] - 3s 3ms/step - loss: 0.2068 - acc: 0.0396 - val_loss: 0.2795 - val_acc: 0.0294\n",
            "Epoch 155/400\n",
            "1320/1320 [==============================] - 3s 3ms/step - loss: 0.2048 - acc: 0.0400 - val_loss: 0.2803 - val_acc: 0.0290\n",
            "Epoch 156/400\n",
            " 512/1320 [==========>...................] - ETA: 1s - loss: 0.2099 - acc: 0.0416"
          ],
          "name": "stdout"
        },
        {
          "output_type": "stream",
          "text": [
            "1320/1320 [==============================] - 3s 3ms/step - loss: 0.2037 - acc: 0.0405 - val_loss: 0.2760 - val_acc: 0.0296\n",
            "Epoch 157/400\n",
            "1320/1320 [==============================] - 3s 3ms/step - loss: 0.2029 - acc: 0.0406 - val_loss: 0.2763 - val_acc: 0.0302\n",
            "Epoch 158/400\n",
            "1320/1320 [==============================] - 3s 3ms/step - loss: 0.2012 - acc: 0.0407 - val_loss: 0.2755 - val_acc: 0.0302\n",
            "Epoch 159/400\n",
            "1320/1320 [==============================] - 3s 3ms/step - loss: 0.1995 - acc: 0.0412 - val_loss: 0.2743 - val_acc: 0.0304\n",
            "Epoch 160/400\n",
            "1320/1320 [==============================] - 3s 3ms/step - loss: 0.1988 - acc: 0.0415 - val_loss: 0.2718 - val_acc: 0.0308\n",
            "Epoch 161/400\n",
            "1320/1320 [==============================] - 3s 3ms/step - loss: 0.1972 - acc: 0.0418 - val_loss: 0.2712 - val_acc: 0.0308\n",
            "Epoch 162/400\n",
            "1320/1320 [==============================] - 3s 3ms/step - loss: 0.1954 - acc: 0.0421 - val_loss: 0.2725 - val_acc: 0.0306\n",
            "Epoch 163/400\n",
            "1320/1320 [==============================] - 3s 3ms/step - loss: 0.1951 - acc: 0.0422 - val_loss: 0.2686 - val_acc: 0.0308\n",
            "Epoch 164/400\n",
            "1320/1320 [==============================] - 3s 3ms/step - loss: 0.1938 - acc: 0.0425 - val_loss: 0.2680 - val_acc: 0.0322\n",
            "Epoch 165/400\n",
            "1320/1320 [==============================] - 3s 3ms/step - loss: 0.1913 - acc: 0.0433 - val_loss: 0.2674 - val_acc: 0.0318\n",
            "Epoch 166/400\n",
            "1280/1320 [============================>.] - ETA: 0s - loss: 0.1910 - acc: 0.0429"
          ],
          "name": "stdout"
        },
        {
          "output_type": "stream",
          "text": [
            "\b\b\b\b\b\b\b\b\b\b\b\b\b\b\b\b\b\b\b\b\b\b\b\b\b\b\b\b\b\b\b\b\b\b\b\b\b\b\b\b\b\b\b\b\b\b\b\b\b\b\b\b\b\b\b\b\b\b\b\b\b\b\b\b\b\b\b\b\b\b\b\b\b\b\b\b\b\b\b\b\b\r1320/1320 [==============================] - 3s 3ms/step - loss: 0.1912 - acc: 0.0433 - val_loss: 0.2641 - val_acc: 0.0316\n",
            "Epoch 167/400\n",
            "1320/1320 [==============================] - 3s 3ms/step - loss: 0.1899 - acc: 0.0439 - val_loss: 0.2644 - val_acc: 0.0324\n",
            "Epoch 168/400\n",
            "1320/1320 [==============================] - 3s 3ms/step - loss: 0.1879 - acc: 0.0440 - val_loss: 0.2619 - val_acc: 0.0322\n",
            "Epoch 169/400\n",
            "1320/1320 [==============================] - 3s 3ms/step - loss: 0.1876 - acc: 0.0442 - val_loss: 0.2615 - val_acc: 0.0327\n",
            "Epoch 170/400\n",
            "1320/1320 [==============================] - 3s 3ms/step - loss: 0.1849 - acc: 0.0447 - val_loss: 0.2610 - val_acc: 0.0343\n",
            "Epoch 171/400\n",
            "1320/1320 [==============================] - 3s 3ms/step - loss: 0.1852 - acc: 0.0446 - val_loss: 0.2589 - val_acc: 0.0331\n",
            "Epoch 172/400\n",
            "1320/1320 [==============================] - 3s 3ms/step - loss: 0.1828 - acc: 0.0451 - val_loss: 0.2592 - val_acc: 0.0329\n",
            "Epoch 173/400\n",
            "1320/1320 [==============================] - 3s 3ms/step - loss: 0.1823 - acc: 0.0455 - val_loss: 0.2584 - val_acc: 0.0337\n",
            "Epoch 174/400\n",
            "1320/1320 [==============================] - 3s 3ms/step - loss: 0.1818 - acc: 0.0453 - val_loss: 0.2595 - val_acc: 0.0320\n",
            "Epoch 175/400\n",
            "1320/1320 [==============================] - 3s 3ms/step - loss: 0.1796 - acc: 0.0461 - val_loss: 0.2570 - val_acc: 0.0337\n",
            "Epoch 176/400\n",
            " 512/1320 [==========>...................] - ETA: 1s - loss: 0.1803 - acc: 0.0454"
          ],
          "name": "stdout"
        },
        {
          "output_type": "stream",
          "text": [
            "1320/1320 [==============================] - 3s 3ms/step - loss: 0.1783 - acc: 0.0460 - val_loss: 0.2530 - val_acc: 0.0343\n",
            "Epoch 177/400\n",
            "1320/1320 [==============================] - 3s 3ms/step - loss: 0.1777 - acc: 0.0463 - val_loss: 0.2508 - val_acc: 0.0351\n",
            "Epoch 178/400\n",
            "1320/1320 [==============================] - 3s 3ms/step - loss: 0.1762 - acc: 0.0466 - val_loss: 0.2503 - val_acc: 0.0351\n",
            "Epoch 179/400\n",
            "1320/1320 [==============================] - 3s 3ms/step - loss: 0.1749 - acc: 0.0470 - val_loss: 0.2517 - val_acc: 0.0343\n",
            "Epoch 180/400\n",
            "1320/1320 [==============================] - 3s 3ms/step - loss: 0.1739 - acc: 0.0472 - val_loss: 0.2475 - val_acc: 0.0359\n",
            "Epoch 181/400\n",
            "1320/1320 [==============================] - 3s 3ms/step - loss: 0.1735 - acc: 0.0473 - val_loss: 0.2464 - val_acc: 0.0351\n",
            "Epoch 182/400\n",
            "1320/1320 [==============================] - 3s 3ms/step - loss: 0.1712 - acc: 0.0478 - val_loss: 0.2451 - val_acc: 0.0357\n",
            "Epoch 183/400\n",
            "1320/1320 [==============================] - 3s 3ms/step - loss: 0.1707 - acc: 0.0479 - val_loss: 0.2448 - val_acc: 0.0353\n",
            "Epoch 184/400\n",
            "1320/1320 [==============================] - 3s 3ms/step - loss: 0.1696 - acc: 0.0482 - val_loss: 0.2456 - val_acc: 0.0351\n",
            "Epoch 185/400\n",
            "1320/1320 [==============================] - 3s 3ms/step - loss: 0.1675 - acc: 0.0486 - val_loss: 0.2468 - val_acc: 0.0345\n",
            "Epoch 186/400\n",
            "1280/1320 [============================>.] - ETA: 0s - loss: 0.1671 - acc: 0.0489"
          ],
          "name": "stdout"
        },
        {
          "output_type": "stream",
          "text": [
            "\b\b\b\b\b\b\b\b\b\b\b\b\b\b\b\b\b\b\b\b\b\b\b\b\b\b\b\b\b\b\b\b\b\b\b\b\b\b\b\b\b\b\b\b\b\b\b\b\b\b\b\b\b\b\b\b\b\b\b\b\b\b\b\b\b\b\b\b\b\b\b\b\b\b\b\b\b\b\b\b\b\r1320/1320 [==============================] - 3s 3ms/step - loss: 0.1669 - acc: 0.0487 - val_loss: 0.2410 - val_acc: 0.0349\n",
            "Epoch 187/400\n",
            "1320/1320 [==============================] - 3s 3ms/step - loss: 0.1672 - acc: 0.0486 - val_loss: 0.2397 - val_acc: 0.0363\n",
            "Epoch 188/400\n",
            "1320/1320 [==============================] - 4s 3ms/step - loss: 0.1650 - acc: 0.0493 - val_loss: 0.2413 - val_acc: 0.0363\n",
            "Epoch 189/400\n",
            "1320/1320 [==============================] - 3s 3ms/step - loss: 0.1639 - acc: 0.0493 - val_loss: 0.2368 - val_acc: 0.0371\n",
            "Epoch 190/400\n",
            "1320/1320 [==============================] - 3s 3ms/step - loss: 0.1625 - acc: 0.0496 - val_loss: 0.2374 - val_acc: 0.0363\n",
            "Epoch 191/400\n",
            "1320/1320 [==============================] - 3s 3ms/step - loss: 0.1620 - acc: 0.0495 - val_loss: 0.2342 - val_acc: 0.0376\n",
            "Epoch 192/400\n",
            "1320/1320 [==============================] - 3s 3ms/step - loss: 0.1597 - acc: 0.0502 - val_loss: 0.2373 - val_acc: 0.0369\n",
            "Epoch 193/400\n",
            "1320/1320 [==============================] - 3s 3ms/step - loss: 0.1596 - acc: 0.0501 - val_loss: 0.2370 - val_acc: 0.0386\n",
            "Epoch 194/400\n",
            "1320/1320 [==============================] - 3s 3ms/step - loss: 0.1586 - acc: 0.0503 - val_loss: 0.2317 - val_acc: 0.0392\n",
            "Epoch 195/400\n",
            "1320/1320 [==============================] - 4s 3ms/step - loss: 0.1574 - acc: 0.0502 - val_loss: 0.2322 - val_acc: 0.0388\n",
            "Epoch 196/400\n",
            " 512/1320 [==========>...................] - ETA: 1s - loss: 0.1590 - acc: 0.0502"
          ],
          "name": "stdout"
        },
        {
          "output_type": "stream",
          "text": [
            "1320/1320 [==============================] - 4s 3ms/step - loss: 0.1568 - acc: 0.0506 - val_loss: 0.2289 - val_acc: 0.0398\n",
            "Epoch 197/400\n",
            "1320/1320 [==============================] - 4s 3ms/step - loss: 0.1555 - acc: 0.0510 - val_loss: 0.2282 - val_acc: 0.0388\n",
            "Epoch 198/400\n",
            "1320/1320 [==============================] - 4s 3ms/step - loss: 0.1540 - acc: 0.0511 - val_loss: 0.2269 - val_acc: 0.0400\n",
            "Epoch 199/400\n",
            "1320/1320 [==============================] - 3s 3ms/step - loss: 0.1542 - acc: 0.0512 - val_loss: 0.2254 - val_acc: 0.0400\n",
            "Epoch 200/400\n",
            "1320/1320 [==============================] - 3s 3ms/step - loss: 0.1514 - acc: 0.0518 - val_loss: 0.2238 - val_acc: 0.0404\n",
            "Epoch 201/400\n",
            "1320/1320 [==============================] - 3s 3ms/step - loss: 0.1519 - acc: 0.0515 - val_loss: 0.2271 - val_acc: 0.0408\n",
            "Epoch 202/400\n",
            "1320/1320 [==============================] - 3s 3ms/step - loss: 0.1498 - acc: 0.0521 - val_loss: 0.2210 - val_acc: 0.0410\n",
            "Epoch 203/400\n",
            "1320/1320 [==============================] - 3s 3ms/step - loss: 0.1499 - acc: 0.0520 - val_loss: 0.2209 - val_acc: 0.0414\n",
            "Epoch 204/400\n",
            "1320/1320 [==============================] - 3s 3ms/step - loss: 0.1487 - acc: 0.0523 - val_loss: 0.2203 - val_acc: 0.0404\n",
            "Epoch 205/400\n",
            "1320/1320 [==============================] - 3s 3ms/step - loss: 0.1473 - acc: 0.0527 - val_loss: 0.2206 - val_acc: 0.0412\n",
            "Epoch 206/400\n",
            "1280/1320 [============================>.] - ETA: 0s - loss: 0.1458 - acc: 0.0530"
          ],
          "name": "stdout"
        },
        {
          "output_type": "stream",
          "text": [
            "\b\b\b\b\b\b\b\b\b\b\b\b\b\b\b\b\b\b\b\b\b\b\b\b\b\b\b\b\b\b\b\b\b\b\b\b\b\b\b\b\b\b\b\b\b\b\b\b\b\b\b\b\b\b\b\b\b\b\b\b\b\b\b\b\b\b\b\b\b\b\b\b\b\b\b\b\b\b\b\b\b\r1320/1320 [==============================] - 3s 3ms/step - loss: 0.1463 - acc: 0.0529 - val_loss: 0.2198 - val_acc: 0.0396\n",
            "Epoch 207/400\n",
            "1320/1320 [==============================] - 3s 3ms/step - loss: 0.1471 - acc: 0.0528 - val_loss: 0.2153 - val_acc: 0.0429\n",
            "Epoch 208/400\n",
            "1320/1320 [==============================] - 3s 3ms/step - loss: 0.1437 - acc: 0.0533 - val_loss: 0.2160 - val_acc: 0.0414\n",
            "Epoch 209/400\n",
            "1320/1320 [==============================] - 3s 3ms/step - loss: 0.1441 - acc: 0.0532 - val_loss: 0.2136 - val_acc: 0.0427\n",
            "Epoch 210/400\n",
            "1320/1320 [==============================] - 3s 3ms/step - loss: 0.1437 - acc: 0.0536 - val_loss: 0.2159 - val_acc: 0.0416\n",
            "Epoch 211/400\n",
            "1320/1320 [==============================] - 3s 3ms/step - loss: 0.1417 - acc: 0.0538 - val_loss: 0.2157 - val_acc: 0.0414\n",
            "Epoch 212/400\n",
            "1320/1320 [==============================] - 3s 3ms/step - loss: 0.1419 - acc: 0.0534 - val_loss: 0.2124 - val_acc: 0.0431\n",
            "Epoch 213/400\n",
            "1320/1320 [==============================] - 3s 3ms/step - loss: 0.1400 - acc: 0.0541 - val_loss: 0.2093 - val_acc: 0.0424\n",
            "Epoch 214/400\n",
            "1320/1320 [==============================] - 3s 3ms/step - loss: 0.1393 - acc: 0.0540 - val_loss: 0.2128 - val_acc: 0.0416\n",
            "Epoch 215/400\n",
            "1320/1320 [==============================] - 3s 3ms/step - loss: 0.1395 - acc: 0.0541 - val_loss: 0.2072 - val_acc: 0.0431\n",
            "Epoch 216/400\n",
            " 512/1320 [==========>...................] - ETA: 1s - loss: 0.1323 - acc: 0.0533"
          ],
          "name": "stdout"
        },
        {
          "output_type": "stream",
          "text": [
            "1320/1320 [==============================] - 3s 3ms/step - loss: 0.1376 - acc: 0.0543 - val_loss: 0.2065 - val_acc: 0.0437\n",
            "Epoch 217/400\n",
            "1320/1320 [==============================] - 3s 3ms/step - loss: 0.1366 - acc: 0.0547 - val_loss: 0.2073 - val_acc: 0.0433\n",
            "Epoch 218/400\n",
            "1320/1320 [==============================] - 3s 3ms/step - loss: 0.1358 - acc: 0.0548 - val_loss: 0.2046 - val_acc: 0.0441\n",
            "Epoch 219/400\n",
            "1320/1320 [==============================] - 3s 3ms/step - loss: 0.1359 - acc: 0.0548 - val_loss: 0.2037 - val_acc: 0.0439\n",
            "Epoch 220/400\n",
            "1320/1320 [==============================] - 3s 3ms/step - loss: 0.1346 - acc: 0.0550 - val_loss: 0.2045 - val_acc: 0.0437\n",
            "Epoch 221/400\n",
            "1320/1320 [==============================] - 3s 3ms/step - loss: 0.1329 - acc: 0.0556 - val_loss: 0.2048 - val_acc: 0.0445\n",
            "Epoch 222/400\n",
            "1320/1320 [==============================] - 3s 3ms/step - loss: 0.1328 - acc: 0.0552 - val_loss: 0.2002 - val_acc: 0.0435\n",
            "Epoch 223/400\n",
            "1320/1320 [==============================] - 3s 3ms/step - loss: 0.1328 - acc: 0.0554 - val_loss: 0.2028 - val_acc: 0.0445\n",
            "Epoch 224/400\n",
            "1320/1320 [==============================] - 3s 3ms/step - loss: 0.1308 - acc: 0.0559 - val_loss: 0.1993 - val_acc: 0.0457\n",
            "Epoch 225/400\n",
            "1320/1320 [==============================] - 3s 3ms/step - loss: 0.1297 - acc: 0.0560 - val_loss: 0.1963 - val_acc: 0.0449\n",
            "Epoch 226/400\n",
            "1280/1320 [============================>.] - ETA: 0s - loss: 0.1306 - acc: 0.0557"
          ],
          "name": "stdout"
        },
        {
          "output_type": "stream",
          "text": [
            "\b\b\b\b\b\b\b\b\b\b\b\b\b\b\b\b\b\b\b\b\b\b\b\b\b\b\b\b\b\b\b\b\b\b\b\b\b\b\b\b\b\b\b\b\b\b\b\b\b\b\b\b\b\b\b\b\b\b\b\b\b\b\b\b\b\b\b\b\b\b\b\b\b\b\b\b\b\b\b\b\b\r1320/1320 [==============================] - 3s 3ms/step - loss: 0.1303 - acc: 0.0560 - val_loss: 0.1951 - val_acc: 0.0447\n",
            "Epoch 227/400\n",
            "1320/1320 [==============================] - 3s 3ms/step - loss: 0.1286 - acc: 0.0560 - val_loss: 0.1952 - val_acc: 0.0463\n",
            "Epoch 228/400\n",
            "1320/1320 [==============================] - 3s 3ms/step - loss: 0.1283 - acc: 0.0563 - val_loss: 0.1987 - val_acc: 0.0459\n",
            "Epoch 229/400\n",
            "1320/1320 [==============================] - 3s 3ms/step - loss: 0.1278 - acc: 0.0565 - val_loss: 0.1925 - val_acc: 0.0465\n",
            "Epoch 230/400\n",
            "1320/1320 [==============================] - 3s 3ms/step - loss: 0.1268 - acc: 0.0566 - val_loss: 0.1928 - val_acc: 0.0469\n",
            "Epoch 231/400\n",
            "1320/1320 [==============================] - 3s 3ms/step - loss: 0.1257 - acc: 0.0569 - val_loss: 0.1929 - val_acc: 0.0453\n",
            "Epoch 232/400\n",
            "1320/1320 [==============================] - 3s 3ms/step - loss: 0.1261 - acc: 0.0568 - val_loss: 0.1912 - val_acc: 0.0463\n",
            "Epoch 233/400\n",
            "1320/1320 [==============================] - 3s 3ms/step - loss: 0.1239 - acc: 0.0574 - val_loss: 0.1912 - val_acc: 0.0463\n",
            "Epoch 234/400\n",
            "1320/1320 [==============================] - 3s 3ms/step - loss: 0.1242 - acc: 0.0571 - val_loss: 0.1866 - val_acc: 0.0476\n",
            "Epoch 235/400\n",
            "1320/1320 [==============================] - 3s 3ms/step - loss: 0.1232 - acc: 0.0573 - val_loss: 0.1886 - val_acc: 0.0467\n",
            "Epoch 236/400\n",
            " 512/1320 [==========>...................] - ETA: 1s - loss: 0.1261 - acc: 0.0555"
          ],
          "name": "stdout"
        },
        {
          "output_type": "stream",
          "text": [
            "1320/1320 [==============================] - 3s 3ms/step - loss: 0.1225 - acc: 0.0574 - val_loss: 0.1854 - val_acc: 0.0480\n",
            "Epoch 237/400\n",
            "1320/1320 [==============================] - 3s 3ms/step - loss: 0.1209 - acc: 0.0579 - val_loss: 0.1880 - val_acc: 0.0469\n",
            "Epoch 238/400\n",
            "1320/1320 [==============================] - 3s 3ms/step - loss: 0.1215 - acc: 0.0575 - val_loss: 0.1866 - val_acc: 0.0473\n",
            "Epoch 239/400\n",
            "1320/1320 [==============================] - 3s 3ms/step - loss: 0.1196 - acc: 0.0579 - val_loss: 0.1825 - val_acc: 0.0478\n",
            "Epoch 240/400\n",
            "1320/1320 [==============================] - 3s 3ms/step - loss: 0.1202 - acc: 0.0579 - val_loss: 0.1851 - val_acc: 0.0486\n",
            "Epoch 241/400\n",
            "1320/1320 [==============================] - 3s 3ms/step - loss: 0.1190 - acc: 0.0579 - val_loss: 0.1838 - val_acc: 0.0484\n",
            "Epoch 242/400\n",
            "1320/1320 [==============================] - 3s 3ms/step - loss: 0.1187 - acc: 0.0581 - val_loss: 0.1820 - val_acc: 0.0490\n",
            "Epoch 243/400\n",
            "1320/1320 [==============================] - 3s 3ms/step - loss: 0.1182 - acc: 0.0581 - val_loss: 0.1848 - val_acc: 0.0484\n",
            "Epoch 244/400\n",
            "1320/1320 [==============================] - 3s 3ms/step - loss: 0.1174 - acc: 0.0582 - val_loss: 0.1790 - val_acc: 0.0496\n",
            "Epoch 245/400\n",
            "1320/1320 [==============================] - 4s 3ms/step - loss: 0.1159 - acc: 0.0588 - val_loss: 0.1796 - val_acc: 0.0488\n",
            "Epoch 246/400\n",
            "1280/1320 [============================>.] - ETA: 0s - loss: 0.1167 - acc: 0.0586"
          ],
          "name": "stdout"
        },
        {
          "output_type": "stream",
          "text": [
            "\b\b\b\b\b\b\b\b\b\b\b\b\b\b\b\b\b\b\b\b\b\b\b\b\b\b\b\b\b\b\b\b\b\b\b\b\b\b\b\b\b\b\b\b\b\b\b\b\b\b\b\b\b\b\b\b\b\b\b\b\b\b\b\b\b\b\b\b\b\b\b\b\b\b\b\b\b\b\b\b\b\r1320/1320 [==============================] - 3s 3ms/step - loss: 0.1163 - acc: 0.0585 - val_loss: 0.1764 - val_acc: 0.0498\n",
            "Epoch 247/400\n",
            "1320/1320 [==============================] - 3s 3ms/step - loss: 0.1146 - acc: 0.0589 - val_loss: 0.1791 - val_acc: 0.0490\n",
            "Epoch 248/400\n",
            "1320/1320 [==============================] - 3s 3ms/step - loss: 0.1152 - acc: 0.0586 - val_loss: 0.1738 - val_acc: 0.0504\n",
            "Epoch 249/400\n",
            "1320/1320 [==============================] - 3s 3ms/step - loss: 0.1140 - acc: 0.0589 - val_loss: 0.1751 - val_acc: 0.0488\n",
            "Epoch 250/400\n",
            "1320/1320 [==============================] - 3s 3ms/step - loss: 0.1128 - acc: 0.0591 - val_loss: 0.1739 - val_acc: 0.0500\n",
            "Epoch 251/400\n",
            "1320/1320 [==============================] - 3s 3ms/step - loss: 0.1135 - acc: 0.0591 - val_loss: 0.1719 - val_acc: 0.0492\n",
            "Epoch 252/400\n",
            "1320/1320 [==============================] - 3s 3ms/step - loss: 0.1117 - acc: 0.0592 - val_loss: 0.1805 - val_acc: 0.0498\n",
            "Epoch 253/400\n",
            "1320/1320 [==============================] - 3s 3ms/step - loss: 0.1123 - acc: 0.0590 - val_loss: 0.1721 - val_acc: 0.0514\n",
            "Epoch 254/400\n",
            "1320/1320 [==============================] - 3s 3ms/step - loss: 0.1109 - acc: 0.0593 - val_loss: 0.1713 - val_acc: 0.0510\n",
            "Epoch 255/400\n",
            "1320/1320 [==============================] - 3s 3ms/step - loss: 0.1111 - acc: 0.0594 - val_loss: 0.1677 - val_acc: 0.0512\n",
            "Epoch 256/400\n",
            " 512/1320 [==========>...................] - ETA: 1s - loss: 0.1097 - acc: 0.0624"
          ],
          "name": "stdout"
        },
        {
          "output_type": "stream",
          "text": [
            "1320/1320 [==============================] - 3s 3ms/step - loss: 0.1096 - acc: 0.0599 - val_loss: 0.1760 - val_acc: 0.0492\n",
            "Epoch 257/400\n",
            "1320/1320 [==============================] - 3s 3ms/step - loss: 0.1103 - acc: 0.0594 - val_loss: 0.1710 - val_acc: 0.0516\n",
            "Epoch 258/400\n",
            "1320/1320 [==============================] - 3s 3ms/step - loss: 0.1088 - acc: 0.0599 - val_loss: 0.1692 - val_acc: 0.0514\n",
            "Epoch 259/400\n",
            "1320/1320 [==============================] - 3s 3ms/step - loss: 0.1083 - acc: 0.0603 - val_loss: 0.1665 - val_acc: 0.0522\n",
            "Epoch 260/400\n",
            "1320/1320 [==============================] - 3s 3ms/step - loss: 0.1082 - acc: 0.0600 - val_loss: 0.1657 - val_acc: 0.0522\n",
            "Epoch 261/400\n",
            "1320/1320 [==============================] - 3s 3ms/step - loss: 0.1078 - acc: 0.0600 - val_loss: 0.1627 - val_acc: 0.0529\n",
            "Epoch 262/400\n",
            "1320/1320 [==============================] - 3s 3ms/step - loss: 0.1067 - acc: 0.0604 - val_loss: 0.1622 - val_acc: 0.0535\n",
            "Epoch 263/400\n",
            "1320/1320 [==============================] - 3s 3ms/step - loss: 0.1061 - acc: 0.0606 - val_loss: 0.1658 - val_acc: 0.0510\n",
            "Epoch 264/400\n",
            "1320/1320 [==============================] - 3s 3ms/step - loss: 0.1057 - acc: 0.0607 - val_loss: 0.1674 - val_acc: 0.0514\n",
            "Epoch 265/400\n",
            "1320/1320 [==============================] - 3s 3ms/step - loss: 0.1053 - acc: 0.0607 - val_loss: 0.1668 - val_acc: 0.0524\n",
            "Epoch 266/400\n",
            "1280/1320 [============================>.] - ETA: 0s - loss: 0.1045 - acc: 0.0607"
          ],
          "name": "stdout"
        },
        {
          "output_type": "stream",
          "text": [
            "\b\b\b\b\b\b\b\b\b\b\b\b\b\b\b\b\b\b\b\b\b\b\b\b\b\b\b\b\b\b\b\b\b\b\b\b\b\b\b\b\b\b\b\b\b\b\b\b\b\b\b\b\b\b\b\b\b\b\b\b\b\b\b\b\b\b\b\b\b\b\b\b\b\b\b\b\b\b\b\b\b\r1320/1320 [==============================] - 3s 3ms/step - loss: 0.1049 - acc: 0.0606 - val_loss: 0.1666 - val_acc: 0.0533\n",
            "Epoch 267/400\n",
            "1320/1320 [==============================] - 3s 3ms/step - loss: 0.1039 - acc: 0.0609 - val_loss: 0.1625 - val_acc: 0.0537\n",
            "Epoch 268/400\n",
            "1320/1320 [==============================] - 3s 3ms/step - loss: 0.1038 - acc: 0.0609 - val_loss: 0.1639 - val_acc: 0.0518\n",
            "Epoch 269/400\n",
            "1320/1320 [==============================] - 3s 3ms/step - loss: 0.1039 - acc: 0.0608 - val_loss: 0.1582 - val_acc: 0.0533\n",
            "Epoch 270/400\n",
            "1320/1320 [==============================] - 3s 3ms/step - loss: 0.1020 - acc: 0.0613 - val_loss: 0.1567 - val_acc: 0.0541\n",
            "Epoch 271/400\n",
            "1320/1320 [==============================] - 3s 3ms/step - loss: 0.1024 - acc: 0.0610 - val_loss: 0.1586 - val_acc: 0.0543\n",
            "Epoch 272/400\n",
            "1320/1320 [==============================] - 3s 3ms/step - loss: 0.1020 - acc: 0.0611 - val_loss: 0.1585 - val_acc: 0.0541\n",
            "Epoch 273/400\n",
            "1320/1320 [==============================] - 3s 3ms/step - loss: 0.1009 - acc: 0.0616 - val_loss: 0.1580 - val_acc: 0.0535\n",
            "Epoch 274/400\n",
            "1320/1320 [==============================] - 3s 3ms/step - loss: 0.1017 - acc: 0.0613 - val_loss: 0.1592 - val_acc: 0.0527\n",
            "Epoch 275/400\n",
            "1320/1320 [==============================] - 3s 3ms/step - loss: 0.1002 - acc: 0.0615 - val_loss: 0.1518 - val_acc: 0.0555\n",
            "Epoch 276/400\n",
            " 512/1320 [==========>...................] - ETA: 1s - loss: 0.1005 - acc: 0.0654"
          ],
          "name": "stdout"
        },
        {
          "output_type": "stream",
          "text": [
            "1320/1320 [==============================] - 3s 3ms/step - loss: 0.0997 - acc: 0.0616 - val_loss: 0.1561 - val_acc: 0.0545\n",
            "Epoch 277/400\n",
            "1320/1320 [==============================] - 3s 3ms/step - loss: 0.0996 - acc: 0.0616 - val_loss: 0.1530 - val_acc: 0.0545\n",
            "Epoch 278/400\n",
            "1320/1320 [==============================] - 3s 3ms/step - loss: 0.0988 - acc: 0.0616 - val_loss: 0.1500 - val_acc: 0.0555\n",
            "Epoch 279/400\n",
            "1320/1320 [==============================] - 3s 3ms/step - loss: 0.0990 - acc: 0.0618 - val_loss: 0.1500 - val_acc: 0.0559\n",
            "Epoch 280/400\n",
            "1320/1320 [==============================] - 3s 3ms/step - loss: 0.0977 - acc: 0.0620 - val_loss: 0.1501 - val_acc: 0.0557\n",
            "Epoch 281/400\n",
            "1320/1320 [==============================] - 4s 3ms/step - loss: 0.0979 - acc: 0.0618 - val_loss: 0.1487 - val_acc: 0.0551\n",
            "Epoch 282/400\n",
            "1320/1320 [==============================] - 3s 3ms/step - loss: 0.0971 - acc: 0.0621 - val_loss: 0.1490 - val_acc: 0.0569\n",
            "Epoch 283/400\n",
            "1320/1320 [==============================] - 3s 3ms/step - loss: 0.0968 - acc: 0.0623 - val_loss: 0.1518 - val_acc: 0.0551\n",
            "Epoch 284/400\n",
            "1320/1320 [==============================] - 4s 3ms/step - loss: 0.0970 - acc: 0.0620 - val_loss: 0.1458 - val_acc: 0.0557\n",
            "Epoch 285/400\n",
            "1320/1320 [==============================] - 4s 3ms/step - loss: 0.0964 - acc: 0.0622 - val_loss: 0.1500 - val_acc: 0.0567\n",
            "Epoch 286/400\n",
            "1280/1320 [============================>.] - ETA: 0s - loss: 0.1020 - acc: 0.0617"
          ],
          "name": "stdout"
        },
        {
          "output_type": "stream",
          "text": [
            "\b\b\b\b\b\b\b\b\b\b\b\b\b\b\b\b\b\b\b\b\b\b\b\b\b\b\b\b\b\b\b\b\b\b\b\b\b\b\b\b\b\b\b\b\b\b\b\b\b\b\b\b\b\b\b\b\b\b\b\b\b\b\b\b\b\b\b\b\b\b\b\b\b\b\b\b\b\b\b\b\b\r1320/1320 [==============================] - 4s 3ms/step - loss: 0.1018 - acc: 0.0614 - val_loss: 0.1451 - val_acc: 0.0576\n",
            "Epoch 287/400\n",
            "1320/1320 [==============================] - 4s 3ms/step - loss: 0.0956 - acc: 0.0623 - val_loss: 0.1449 - val_acc: 0.0569\n",
            "Epoch 288/400\n",
            "1320/1320 [==============================] - 4s 3ms/step - loss: 0.0943 - acc: 0.0627 - val_loss: 0.1470 - val_acc: 0.0561\n",
            "Epoch 289/400\n",
            "1320/1320 [==============================] - 4s 3ms/step - loss: 0.0949 - acc: 0.0623 - val_loss: 0.1463 - val_acc: 0.0561\n",
            "Epoch 290/400\n",
            "1320/1320 [==============================] - 4s 3ms/step - loss: 0.0945 - acc: 0.0623 - val_loss: 0.1430 - val_acc: 0.0571\n",
            "Epoch 291/400\n",
            "1320/1320 [==============================] - 4s 3ms/step - loss: 0.0939 - acc: 0.0627 - val_loss: 0.1430 - val_acc: 0.0571\n",
            "Epoch 292/400\n",
            "1320/1320 [==============================] - 4s 3ms/step - loss: 0.0941 - acc: 0.0625 - val_loss: 0.1398 - val_acc: 0.0582\n",
            "Epoch 293/400\n",
            "1320/1320 [==============================] - 4s 3ms/step - loss: 0.0920 - acc: 0.0630 - val_loss: 0.1498 - val_acc: 0.0553\n",
            "Epoch 294/400\n",
            "1320/1320 [==============================] - 4s 3ms/step - loss: 0.0930 - acc: 0.0626 - val_loss: 0.1412 - val_acc: 0.0569\n",
            "Epoch 295/400\n",
            "1320/1320 [==============================] - 4s 3ms/step - loss: 0.0926 - acc: 0.0628 - val_loss: 0.1386 - val_acc: 0.0582\n",
            "Epoch 296/400\n",
            " 512/1320 [==========>...................] - ETA: 2s - loss: 0.0888 - acc: 0.0626"
          ],
          "name": "stdout"
        },
        {
          "output_type": "stream",
          "text": [
            "1320/1320 [==============================] - 4s 3ms/step - loss: 0.0924 - acc: 0.0628 - val_loss: 0.1399 - val_acc: 0.0584\n",
            "Epoch 297/400\n",
            "1320/1320 [==============================] - 4s 3ms/step - loss: 0.0915 - acc: 0.0630 - val_loss: 0.1380 - val_acc: 0.0586\n",
            "Epoch 298/400\n",
            "1320/1320 [==============================] - 4s 3ms/step - loss: 0.0911 - acc: 0.0630 - val_loss: 0.1515 - val_acc: 0.0545\n",
            "Epoch 299/400\n",
            "1320/1320 [==============================] - 4s 3ms/step - loss: 0.0910 - acc: 0.0632 - val_loss: 0.1356 - val_acc: 0.0582\n",
            "Epoch 300/400\n",
            "1320/1320 [==============================] - 4s 3ms/step - loss: 0.0907 - acc: 0.0633 - val_loss: 0.1344 - val_acc: 0.0576\n",
            "Epoch 301/400\n",
            "1320/1320 [==============================] - 4s 3ms/step - loss: 0.0898 - acc: 0.0633 - val_loss: 0.1346 - val_acc: 0.0590\n",
            "Epoch 302/400\n",
            "1320/1320 [==============================] - 4s 3ms/step - loss: 0.0908 - acc: 0.0629 - val_loss: 0.1356 - val_acc: 0.0584\n",
            "Epoch 303/400\n",
            "1320/1320 [==============================] - 4s 3ms/step - loss: 0.0898 - acc: 0.0631 - val_loss: 0.1340 - val_acc: 0.0586\n",
            "Epoch 304/400\n",
            "1320/1320 [==============================] - 4s 3ms/step - loss: 0.0900 - acc: 0.0631 - val_loss: 0.1330 - val_acc: 0.0586\n",
            "Epoch 305/400\n",
            "1320/1320 [==============================] - 4s 3ms/step - loss: 0.0885 - acc: 0.0635 - val_loss: 0.1323 - val_acc: 0.0590\n",
            "Epoch 306/400\n",
            "1280/1320 [============================>.] - ETA: 0s - loss: 0.0891 - acc: 0.0635"
          ],
          "name": "stdout"
        },
        {
          "output_type": "stream",
          "text": [
            "\b\b\b\b\b\b\b\b\b\b\b\b\b\b\b\b\b\b\b\b\b\b\b\b\b\b\b\b\b\b\b\b\b\b\b\b\b\b\b\b\b\b\b\b\b\b\b\b\b\b\b\b\b\b\b\b\b\b\b\b\b\b\b\b\b\b\b\b\b\b\b\b\b\b\b\b\b\b\b\b\b\r1320/1320 [==============================] - 4s 3ms/step - loss: 0.0888 - acc: 0.0635 - val_loss: 0.1334 - val_acc: 0.0600\n",
            "Epoch 307/400\n",
            "1320/1320 [==============================] - 3s 3ms/step - loss: 0.0887 - acc: 0.0633 - val_loss: 0.1346 - val_acc: 0.0590\n",
            "Epoch 308/400\n",
            "1320/1320 [==============================] - 4s 3ms/step - loss: 0.0882 - acc: 0.0635 - val_loss: 0.1305 - val_acc: 0.0590\n",
            "Epoch 309/400\n",
            "1320/1320 [==============================] - 4s 3ms/step - loss: 0.0878 - acc: 0.0633 - val_loss: 0.1327 - val_acc: 0.0580\n",
            "Epoch 310/400\n",
            "1320/1320 [==============================] - 4s 3ms/step - loss: 0.0873 - acc: 0.0635 - val_loss: 0.1288 - val_acc: 0.0580\n",
            "Epoch 311/400\n",
            "1320/1320 [==============================] - 4s 3ms/step - loss: 0.0870 - acc: 0.0635 - val_loss: 0.1305 - val_acc: 0.0578\n",
            "Epoch 312/400\n",
            "1320/1320 [==============================] - 4s 3ms/step - loss: 0.0864 - acc: 0.0638 - val_loss: 0.1290 - val_acc: 0.0588\n",
            "Epoch 313/400\n",
            "1320/1320 [==============================] - 4s 3ms/step - loss: 0.0869 - acc: 0.0634 - val_loss: 0.1285 - val_acc: 0.0592\n",
            "Epoch 314/400\n",
            "1320/1320 [==============================] - 3s 3ms/step - loss: 0.0862 - acc: 0.0638 - val_loss: 0.1303 - val_acc: 0.0592\n",
            "Epoch 315/400\n",
            "1320/1320 [==============================] - 4s 3ms/step - loss: 0.0857 - acc: 0.0637 - val_loss: 0.1363 - val_acc: 0.0580\n",
            "Epoch 316/400\n",
            " 512/1320 [==========>...................] - ETA: 1s - loss: 0.0883 - acc: 0.0645"
          ],
          "name": "stdout"
        },
        {
          "output_type": "stream",
          "text": [
            "1320/1320 [==============================] - 4s 3ms/step - loss: 0.0856 - acc: 0.0636 - val_loss: 0.1289 - val_acc: 0.0590\n",
            "Epoch 317/400\n",
            "1320/1320 [==============================] - 4s 3ms/step - loss: 0.0854 - acc: 0.0640 - val_loss: 0.1278 - val_acc: 0.0588\n",
            "Epoch 318/400\n",
            "1320/1320 [==============================] - 4s 3ms/step - loss: 0.0853 - acc: 0.0637 - val_loss: 0.1268 - val_acc: 0.0590\n",
            "Epoch 319/400\n",
            "1320/1320 [==============================] - 4s 3ms/step - loss: 0.0841 - acc: 0.0638 - val_loss: 0.1307 - val_acc: 0.0584\n",
            "Epoch 320/400\n",
            "1320/1320 [==============================] - 3s 3ms/step - loss: 0.0846 - acc: 0.0638 - val_loss: 0.1259 - val_acc: 0.0590\n",
            "Epoch 321/400\n",
            "1320/1320 [==============================] - 3s 3ms/step - loss: 0.0841 - acc: 0.0639 - val_loss: 0.1262 - val_acc: 0.0592\n",
            "Epoch 322/400\n",
            "1320/1320 [==============================] - 3s 3ms/step - loss: 0.0839 - acc: 0.0640 - val_loss: 0.1240 - val_acc: 0.0602\n",
            "Epoch 323/400\n",
            "1320/1320 [==============================] - 3s 3ms/step - loss: 0.0841 - acc: 0.0638 - val_loss: 0.1215 - val_acc: 0.0602\n",
            "Epoch 324/400\n",
            "1320/1320 [==============================] - 3s 3ms/step - loss: 0.0827 - acc: 0.0642 - val_loss: 0.1214 - val_acc: 0.0614\n",
            "Epoch 325/400\n",
            "1320/1320 [==============================] - 3s 3ms/step - loss: 0.0825 - acc: 0.0641 - val_loss: 0.1305 - val_acc: 0.0586\n",
            "Epoch 326/400\n",
            "1280/1320 [============================>.] - ETA: 0s - loss: 0.0825 - acc: 0.0635"
          ],
          "name": "stdout"
        },
        {
          "output_type": "stream",
          "text": [
            "\b\b\b\b\b\b\b\b\b\b\b\b\b\b\b\b\b\b\b\b\b\b\b\b\b\b\b\b\b\b\b\b\b\b\b\b\b\b\b\b\b\b\b\b\b\b\b\b\b\b\b\b\b\b\b\b\b\b\b\b\b\b\b\b\b\b\b\b\b\b\b\b\b\b\b\b\b\b\b\b\b\r1320/1320 [==============================] - 3s 3ms/step - loss: 0.0829 - acc: 0.0641 - val_loss: 0.1256 - val_acc: 0.0590\n",
            "Epoch 327/400\n",
            "1320/1320 [==============================] - 3s 3ms/step - loss: 0.0821 - acc: 0.0643 - val_loss: 0.1218 - val_acc: 0.0610\n",
            "Epoch 328/400\n",
            "1320/1320 [==============================] - 3s 3ms/step - loss: 0.0823 - acc: 0.0641 - val_loss: 0.1229 - val_acc: 0.0598\n",
            "Epoch 329/400\n",
            "1320/1320 [==============================] - 3s 3ms/step - loss: 0.0811 - acc: 0.0644 - val_loss: 0.1192 - val_acc: 0.0602\n",
            "Epoch 330/400\n",
            "1320/1320 [==============================] - 3s 3ms/step - loss: 0.0814 - acc: 0.0643 - val_loss: 0.1186 - val_acc: 0.0606\n",
            "Epoch 331/400\n",
            "1320/1320 [==============================] - 3s 3ms/step - loss: 0.0810 - acc: 0.0643 - val_loss: 0.1217 - val_acc: 0.0598\n",
            "Epoch 332/400\n",
            "1320/1320 [==============================] - 3s 3ms/step - loss: 0.0806 - acc: 0.0643 - val_loss: 0.1185 - val_acc: 0.0608\n",
            "Epoch 333/400\n",
            "1320/1320 [==============================] - 3s 3ms/step - loss: 0.0806 - acc: 0.0644 - val_loss: 0.1205 - val_acc: 0.0610\n",
            "Epoch 334/400\n",
            "1320/1320 [==============================] - 3s 3ms/step - loss: 0.0804 - acc: 0.0644 - val_loss: 0.1156 - val_acc: 0.0608\n",
            "Epoch 335/400\n",
            "1320/1320 [==============================] - 4s 3ms/step - loss: 0.0799 - acc: 0.0645 - val_loss: 0.1214 - val_acc: 0.0606\n",
            "Epoch 336/400\n",
            " 512/1320 [==========>...................] - ETA: 1s - loss: 0.0819 - acc: 0.0641"
          ],
          "name": "stdout"
        },
        {
          "output_type": "stream",
          "text": [
            "1320/1320 [==============================] - 4s 3ms/step - loss: 0.0807 - acc: 0.0644 - val_loss: 0.1141 - val_acc: 0.0614\n",
            "Epoch 337/400\n",
            "1320/1320 [==============================] - 4s 3ms/step - loss: 0.0785 - acc: 0.0648 - val_loss: 0.1208 - val_acc: 0.0606\n",
            "Epoch 338/400\n",
            "1320/1320 [==============================] - 4s 3ms/step - loss: 0.0797 - acc: 0.0646 - val_loss: 0.1144 - val_acc: 0.0620\n",
            "Epoch 339/400\n",
            "1320/1320 [==============================] - 4s 3ms/step - loss: 0.0782 - acc: 0.0646 - val_loss: 0.1154 - val_acc: 0.0610\n",
            "Epoch 340/400\n",
            "1320/1320 [==============================] - 4s 3ms/step - loss: 0.0786 - acc: 0.0645 - val_loss: 0.1128 - val_acc: 0.0618\n",
            "Epoch 341/400\n",
            "1320/1320 [==============================] - 4s 3ms/step - loss: 0.0781 - acc: 0.0649 - val_loss: 0.1209 - val_acc: 0.0600\n",
            "Epoch 342/400\n",
            "1320/1320 [==============================] - 4s 3ms/step - loss: 0.0791 - acc: 0.0645 - val_loss: 0.1112 - val_acc: 0.0620\n",
            "Epoch 343/400\n",
            "1320/1320 [==============================] - 4s 3ms/step - loss: 0.0783 - acc: 0.0647 - val_loss: 0.1115 - val_acc: 0.0627\n",
            "Epoch 344/400\n",
            "1320/1320 [==============================] - 4s 3ms/step - loss: 0.0765 - acc: 0.0650 - val_loss: 0.1114 - val_acc: 0.0620\n",
            "Epoch 345/400\n",
            "1320/1320 [==============================] - 4s 3ms/step - loss: 0.0779 - acc: 0.0647 - val_loss: 0.1117 - val_acc: 0.0618\n",
            "Epoch 346/400\n",
            "1280/1320 [============================>.] - ETA: 0s - loss: 0.0764 - acc: 0.0649"
          ],
          "name": "stdout"
        },
        {
          "output_type": "stream",
          "text": [
            "\b\b\b\b\b\b\b\b\b\b\b\b\b\b\b\b\b\b\b\b\b\b\b\b\b\b\b\b\b\b\b\b\b\b\b\b\b\b\b\b\b\b\b\b\b\b\b\b\b\b\b\b\b\b\b\b\b\b\b\b\b\b\b\b\b\b\b\b\b\b\b\b\b\b\b\b\b\b\b\b\b\r1320/1320 [==============================] - 4s 3ms/step - loss: 0.0763 - acc: 0.0652 - val_loss: 0.1147 - val_acc: 0.0612\n",
            "Epoch 347/400\n",
            "1320/1320 [==============================] - 4s 3ms/step - loss: 0.0770 - acc: 0.0650 - val_loss: 0.1176 - val_acc: 0.0606\n",
            "Epoch 348/400\n",
            "1320/1320 [==============================] - 4s 3ms/step - loss: 0.0761 - acc: 0.0651 - val_loss: 0.1097 - val_acc: 0.0620\n",
            "Epoch 349/400\n",
            "1320/1320 [==============================] - 4s 3ms/step - loss: 0.0775 - acc: 0.0649 - val_loss: 0.1089 - val_acc: 0.0624\n",
            "Epoch 350/400\n",
            "1320/1320 [==============================] - 4s 3ms/step - loss: 0.0771 - acc: 0.0648 - val_loss: 0.1101 - val_acc: 0.0633\n",
            "Epoch 351/400\n",
            "1320/1320 [==============================] - 4s 3ms/step - loss: 0.0763 - acc: 0.0649 - val_loss: 0.1101 - val_acc: 0.0614\n",
            "Epoch 352/400\n",
            "1320/1320 [==============================] - 4s 3ms/step - loss: 0.0754 - acc: 0.0651 - val_loss: 0.1070 - val_acc: 0.0624\n",
            "Epoch 353/400\n",
            "1320/1320 [==============================] - 4s 3ms/step - loss: 0.0771 - acc: 0.0647 - val_loss: 0.1091 - val_acc: 0.0624\n",
            "Epoch 354/400\n",
            "1320/1320 [==============================] - 4s 3ms/step - loss: 0.0753 - acc: 0.0651 - val_loss: 0.1086 - val_acc: 0.0620\n",
            "Epoch 355/400\n",
            "1320/1320 [==============================] - 4s 3ms/step - loss: 0.0764 - acc: 0.0650 - val_loss: 0.1080 - val_acc: 0.0633\n",
            "Epoch 356/400\n",
            " 512/1320 [==========>...................] - ETA: 2s - loss: 0.0741 - acc: 0.0646"
          ],
          "name": "stdout"
        },
        {
          "output_type": "stream",
          "text": [
            "1320/1320 [==============================] - 4s 3ms/step - loss: 0.0762 - acc: 0.0649 - val_loss: 0.1062 - val_acc: 0.0637\n",
            "Epoch 357/400\n",
            "1320/1320 [==============================] - 4s 3ms/step - loss: 0.0751 - acc: 0.0651 - val_loss: 0.1062 - val_acc: 0.0622\n",
            "Epoch 358/400\n",
            "1320/1320 [==============================] - 4s 3ms/step - loss: 0.0750 - acc: 0.0652 - val_loss: 0.1115 - val_acc: 0.0633\n",
            "Epoch 359/400\n",
            "1320/1320 [==============================] - 4s 3ms/step - loss: 0.0741 - acc: 0.0655 - val_loss: 0.1063 - val_acc: 0.0633\n",
            "Epoch 360/400\n",
            "1320/1320 [==============================] - 4s 3ms/step - loss: 0.0742 - acc: 0.0655 - val_loss: 0.1059 - val_acc: 0.0629\n",
            "Epoch 361/400\n",
            "1320/1320 [==============================] - 4s 3ms/step - loss: 0.0745 - acc: 0.0652 - val_loss: 0.1040 - val_acc: 0.0631\n",
            "Epoch 362/400\n",
            "1320/1320 [==============================] - 4s 3ms/step - loss: 0.0745 - acc: 0.0651 - val_loss: 0.1046 - val_acc: 0.0633\n",
            "Epoch 363/400\n",
            "1320/1320 [==============================] - 4s 3ms/step - loss: 0.0731 - acc: 0.0655 - val_loss: 0.1037 - val_acc: 0.0635\n",
            "Epoch 364/400\n",
            "1320/1320 [==============================] - 4s 3ms/step - loss: 0.0744 - acc: 0.0653 - val_loss: 0.1060 - val_acc: 0.0633\n",
            "Epoch 365/400\n",
            "1320/1320 [==============================] - 3s 3ms/step - loss: 0.0748 - acc: 0.0651 - val_loss: 0.1026 - val_acc: 0.0641\n",
            "Epoch 366/400\n",
            "1280/1320 [============================>.] - ETA: 0s - loss: 0.0738 - acc: 0.0654"
          ],
          "name": "stdout"
        },
        {
          "output_type": "stream",
          "text": [
            "\b\b\b\b\b\b\b\b\b\b\b\b\b\b\b\b\b\b\b\b\b\b\b\b\b\b\b\b\b\b\b\b\b\b\b\b\b\b\b\b\b\b\b\b\b\b\b\b\b\b\b\b\b\b\b\b\b\b\b\b\b\b\b\b\b\b\b\b\b\b\b\b\b\b\b\b\b\b\b\b\b\r1320/1320 [==============================] - 3s 3ms/step - loss: 0.0742 - acc: 0.0652 - val_loss: 0.1075 - val_acc: 0.0635\n",
            "Epoch 367/400\n",
            "1320/1320 [==============================] - 3s 3ms/step - loss: 0.0736 - acc: 0.0652 - val_loss: 0.1065 - val_acc: 0.0635\n",
            "Epoch 368/400\n",
            "1320/1320 [==============================] - 3s 3ms/step - loss: 0.0731 - acc: 0.0653 - val_loss: 0.1015 - val_acc: 0.0639\n",
            "Epoch 369/400\n",
            "1320/1320 [==============================] - 4s 3ms/step - loss: 0.0717 - acc: 0.0657 - val_loss: 0.1026 - val_acc: 0.0637\n",
            "Epoch 370/400\n",
            "1320/1320 [==============================] - 4s 3ms/step - loss: 0.0729 - acc: 0.0655 - val_loss: 0.1045 - val_acc: 0.0633\n",
            "Epoch 371/400\n",
            "1320/1320 [==============================] - 3s 3ms/step - loss: 0.0719 - acc: 0.0656 - val_loss: 0.1073 - val_acc: 0.0635\n",
            "Epoch 372/400\n",
            "1320/1320 [==============================] - 4s 3ms/step - loss: 0.0753 - acc: 0.0650 - val_loss: 0.1009 - val_acc: 0.0643\n",
            "Epoch 373/400\n",
            "1320/1320 [==============================] - 3s 3ms/step - loss: 0.0730 - acc: 0.0655 - val_loss: 0.1034 - val_acc: 0.0635\n",
            "Epoch 374/400\n",
            "1320/1320 [==============================] - 4s 3ms/step - loss: 0.0754 - acc: 0.0650 - val_loss: 0.1017 - val_acc: 0.0643\n",
            "Epoch 375/400\n",
            "1320/1320 [==============================] - 4s 3ms/step - loss: 0.0734 - acc: 0.0652 - val_loss: 0.1045 - val_acc: 0.0641\n",
            "Epoch 376/400\n",
            " 512/1320 [==========>...................] - ETA: 1s - loss: 0.0741 - acc: 0.0681"
          ],
          "name": "stdout"
        },
        {
          "output_type": "stream",
          "text": [
            "1320/1320 [==============================] - 4s 3ms/step - loss: 0.0719 - acc: 0.0655 - val_loss: 0.0992 - val_acc: 0.0643\n",
            "Epoch 377/400\n",
            "1320/1320 [==============================] - 4s 3ms/step - loss: 0.0703 - acc: 0.0660 - val_loss: 0.1049 - val_acc: 0.0637\n",
            "Epoch 378/400\n",
            "1320/1320 [==============================] - 4s 3ms/step - loss: 0.0703 - acc: 0.0661 - val_loss: 0.0977 - val_acc: 0.0661\n",
            "Epoch 379/400\n",
            "1320/1320 [==============================] - 4s 3ms/step - loss: 0.0716 - acc: 0.0657 - val_loss: 0.0984 - val_acc: 0.0655\n",
            "Epoch 380/400\n",
            "1320/1320 [==============================] - 4s 3ms/step - loss: 0.0712 - acc: 0.0655 - val_loss: 0.0987 - val_acc: 0.0655\n",
            "Epoch 381/400\n",
            "1320/1320 [==============================] - 3s 3ms/step - loss: 0.0698 - acc: 0.0660 - val_loss: 0.1024 - val_acc: 0.0645\n",
            "Epoch 382/400\n",
            "1320/1320 [==============================] - 3s 3ms/step - loss: 0.0701 - acc: 0.0658 - val_loss: 0.0975 - val_acc: 0.0659\n",
            "Epoch 383/400\n",
            "1320/1320 [==============================] - 3s 3ms/step - loss: 0.0700 - acc: 0.0661 - val_loss: 0.0961 - val_acc: 0.0655\n",
            "Epoch 384/400\n",
            "1320/1320 [==============================] - 3s 3ms/step - loss: 0.0701 - acc: 0.0658 - val_loss: 0.0960 - val_acc: 0.0655\n",
            "Epoch 385/400\n",
            "1320/1320 [==============================] - 3s 3ms/step - loss: 0.0695 - acc: 0.0660 - val_loss: 0.1006 - val_acc: 0.0641\n",
            "Epoch 386/400\n",
            "1280/1320 [============================>.] - ETA: 0s - loss: 0.0693 - acc: 0.0662"
          ],
          "name": "stdout"
        },
        {
          "output_type": "stream",
          "text": [
            "\b\b\b\b\b\b\b\b\b\b\b\b\b\b\b\b\b\b\b\b\b\b\b\b\b\b\b\b\b\b\b\b\b\b\b\b\b\b\b\b\b\b\b\b\b\b\b\b\b\b\b\b\b\b\b\b\b\b\b\b\b\b\b\b\b\b\b\b\b\b\b\b\b\b\b\b\b\b\b\b\b\r1320/1320 [==============================] - 4s 3ms/step - loss: 0.0694 - acc: 0.0661 - val_loss: 0.0945 - val_acc: 0.0661\n",
            "Epoch 387/400\n",
            "1320/1320 [==============================] - 4s 3ms/step - loss: 0.0688 - acc: 0.0661 - val_loss: 0.0942 - val_acc: 0.0653\n",
            "Epoch 388/400\n",
            "1320/1320 [==============================] - 3s 3ms/step - loss: 0.0692 - acc: 0.0660 - val_loss: 0.0960 - val_acc: 0.0657\n",
            "Epoch 389/400\n",
            "1320/1320 [==============================] - 4s 3ms/step - loss: 0.0688 - acc: 0.0661 - val_loss: 0.0943 - val_acc: 0.0659\n",
            "Epoch 390/400\n",
            "1320/1320 [==============================] - 3s 3ms/step - loss: 0.0699 - acc: 0.0658 - val_loss: 0.0966 - val_acc: 0.0649\n",
            "Epoch 391/400\n",
            "1320/1320 [==============================] - 3s 3ms/step - loss: 0.0679 - acc: 0.0664 - val_loss: 0.1045 - val_acc: 0.0641\n",
            "Epoch 392/400\n",
            "1320/1320 [==============================] - 3s 3ms/step - loss: 0.0694 - acc: 0.0661 - val_loss: 0.0930 - val_acc: 0.0661\n",
            "Epoch 393/400\n",
            "1320/1320 [==============================] - 3s 3ms/step - loss: 0.0674 - acc: 0.0663 - val_loss: 0.0940 - val_acc: 0.0655\n",
            "Epoch 394/400\n",
            "1320/1320 [==============================] - 3s 3ms/step - loss: 0.0685 - acc: 0.0663 - val_loss: 0.1034 - val_acc: 0.0645\n",
            "Epoch 395/400\n",
            "1320/1320 [==============================] - 3s 3ms/step - loss: 0.0683 - acc: 0.0663 - val_loss: 0.0930 - val_acc: 0.0663\n",
            "Epoch 396/400\n",
            " 512/1320 [==========>...................] - ETA: 1s - loss: 0.0669 - acc: 0.0662"
          ],
          "name": "stdout"
        },
        {
          "output_type": "stream",
          "text": [
            "1320/1320 [==============================] - 3s 3ms/step - loss: 0.0677 - acc: 0.0664 - val_loss: 0.0930 - val_acc: 0.0667\n",
            "Epoch 397/400\n",
            "1320/1320 [==============================] - 3s 3ms/step - loss: 0.0676 - acc: 0.0664 - val_loss: 0.0937 - val_acc: 0.0665\n",
            "Epoch 398/400\n",
            "1320/1320 [==============================] - 3s 3ms/step - loss: 0.0666 - acc: 0.0665 - val_loss: 0.1001 - val_acc: 0.0629\n",
            "Epoch 399/400\n",
            "1320/1320 [==============================] - 3s 3ms/step - loss: 0.0696 - acc: 0.0657 - val_loss: 0.0916 - val_acc: 0.0661\n",
            "Epoch 400/400\n",
            "1320/1320 [==============================] - 3s 3ms/step - loss: 0.0660 - acc: 0.0667 - val_loss: 0.0938 - val_acc: 0.0657\n"
          ],
          "name": "stdout"
        },
        {
          "output_type": "execute_result",
          "data": {
            "text/plain": [
              "<keras.callbacks.History at 0x7f934d325a90>"
            ]
          },
          "metadata": {
            "tags": []
          },
          "execution_count": 42
        }
      ]
    },
    {
      "cell_type": "code",
      "metadata": {
        "id": "jMvTGZWK42FK",
        "colab_type": "code",
        "outputId": "b1eb94f2-26a5-4572-bc76-56b1df49481d",
        "colab": {
          "base_uri": "https://localhost:8080/",
          "height": 233
        }
      },
      "source": [
        "encoder_model = Model(encoder_inputs, encoder_states)\n",
        "encoder_model.summary()\n",
        "encoder_model.save(\"drive/chatbot/encoder_model.h5\")"
      ],
      "execution_count": 0,
      "outputs": [
        {
          "output_type": "stream",
          "text": [
            "_________________________________________________________________\n",
            "Layer (type)                 Output Shape              Param #   \n",
            "=================================================================\n",
            "encoder_inputs (InputLayer)  (None, None)              0         \n",
            "_________________________________________________________________\n",
            "embedding_1 (Embedding)      (None, None, 50)          87150     \n",
            "_________________________________________________________________\n",
            "lstm_1 (LSTM)                [(None, 50), (None, 50),  20200     \n",
            "=================================================================\n",
            "Total params: 107,350\n",
            "Trainable params: 107,350\n",
            "Non-trainable params: 0\n",
            "_________________________________________________________________\n"
          ],
          "name": "stdout"
        }
      ]
    },
    {
      "cell_type": "code",
      "metadata": {
        "id": "qalYrijuVPQ8",
        "colab_type": "code",
        "outputId": "8a18f047-02c0-4a3c-e85b-e0ee2a5cc6af",
        "colab": {
          "base_uri": "https://localhost:8080/",
          "height": 70
        }
      },
      "source": [
        "model.save(\"drive/chatbot/bot_model.h5\")"
      ],
      "execution_count": 0,
      "outputs": [
        {
          "output_type": "stream",
          "text": [
            "/usr/local/lib/python3.6/dist-packages/keras/engine/topology.py:2379: UserWarning: Layer lstm_6 was passed non-serializable keyword arguments: {'initial_state': [<tf.Tensor 'lstm_1/while/Exit_2:0' shape=(?, 50) dtype=float32>, <tf.Tensor 'lstm_1/while/Exit_3:0' shape=(?, 50) dtype=float32>]}. They will not be included in the serialized model (and thus will be missing at deserialization time).\n",
            "  str(node.arguments) + '. They will not be included '\n"
          ],
          "name": "stderr"
        }
      ]
    },
    {
      "cell_type": "markdown",
      "metadata": {
        "id": "ICOw_ezC42FP",
        "colab_type": "text"
      },
      "source": [
        "#### Create sampling model"
      ]
    },
    {
      "cell_type": "code",
      "metadata": {
        "id": "vwVKe_7K42FQ",
        "colab_type": "code",
        "outputId": "c421319b-b18d-4f0a-9f70-6da8c5ccb763",
        "colab": {
          "base_uri": "https://localhost:8080/",
          "height": 420
        }
      },
      "source": [
        "decoder_state_input_h = Input(shape=(50,))\n",
        "decoder_state_input_c = Input(shape=(50,))\n",
        "decoder_states_inputs = [decoder_state_input_h, decoder_state_input_c]\n",
        "\n",
        "final_dex2= dex(decoder_inputs)\n",
        "\n",
        "decoder_outputs2, state_h2, state_c2 = decoder_lstm(final_dex2, initial_state=decoder_states_inputs)\n",
        "decoder_states2 = [state_h2, state_c2]\n",
        "decoder_outputs2 = decoder_dense(decoder_outputs2)\n",
        "decoder_model = Model(\n",
        "    [decoder_inputs] + decoder_states_inputs,\n",
        "    [decoder_outputs2] + decoder_states2)\n",
        "\n",
        "# Reverse-lookup token index to decode sequences back to\n",
        "# something readable.\n",
        "reverse_input_char_index = dict(\n",
        "    (i, char) for char, i in input_token_index.items())\n",
        "reverse_target_char_index = dict(\n",
        "    (i, char) for char, i in target_token_index.items())\n",
        "decoder_model.summary()\n",
        "decoder_model.save('drive/chatbot/decoder_model.h5')\n"
      ],
      "execution_count": 0,
      "outputs": [
        {
          "output_type": "stream",
          "text": [
            "__________________________________________________________________________________________________\n",
            "Layer (type)                    Output Shape         Param #     Connected to                     \n",
            "==================================================================================================\n",
            "decoder_inputs (InputLayer)     (None, None)         0                                            \n",
            "__________________________________________________________________________________________________\n",
            "embedding_6 (Embedding)         (None, None, 50)     55550       decoder_inputs[0][0]             \n",
            "__________________________________________________________________________________________________\n",
            "input_3 (InputLayer)            (None, 50)           0                                            \n",
            "__________________________________________________________________________________________________\n",
            "input_4 (InputLayer)            (None, 50)           0                                            \n",
            "__________________________________________________________________________________________________\n",
            "lstm_6 (LSTM)                   [(None, None, 50), ( 20200       embedding_6[2][0]                \n",
            "                                                                 input_3[0][0]                    \n",
            "                                                                 input_4[0][0]                    \n",
            "__________________________________________________________________________________________________\n",
            "decoder_output (Dense)          (None, None, 1111)   56661       lstm_6[2][0]                     \n",
            "==================================================================================================\n",
            "Total params: 132,411\n",
            "Trainable params: 132,411\n",
            "Non-trainable params: 0\n",
            "__________________________________________________________________________________________________\n"
          ],
          "name": "stdout"
        },
        {
          "output_type": "stream",
          "text": [
            "/usr/local/lib/python3.6/dist-packages/keras/engine/topology.py:2379: UserWarning: Layer lstm_6 was passed non-serializable keyword arguments: {'initial_state': [<tf.Tensor 'input_3:0' shape=(?, 50) dtype=float32>, <tf.Tensor 'input_4:0' shape=(?, 50) dtype=float32>]}. They will not be included in the serialized model (and thus will be missing at deserialization time).\n",
            "  str(node.arguments) + '. They will not be included '\n"
          ],
          "name": "stderr"
        }
      ]
    },
    {
      "cell_type": "markdown",
      "metadata": {
        "id": "_YPhjoXI42FV",
        "colab_type": "text"
      },
      "source": [
        "#### Function to generate sequences"
      ]
    },
    {
      "cell_type": "code",
      "metadata": {
        "id": "Bolc6TB542FW",
        "colab_type": "code",
        "colab": {}
      },
      "source": [
        "def decode_sequence(input_seq):\n",
        "    # Encode the input as state vectors.\n",
        "    states_value = encoder_model.predict(input_seq)\n",
        "    # Generate empty target sequence of length 1.\n",
        "    target_seq = np.zeros((1,1))\n",
        "    # Populate the first character of target sequence with the start character.\n",
        "    target_seq[0, 0] = target_token_index['START_']\n",
        "\n",
        "    # Sampling loop for a batch of sequences\n",
        "    # (to simplify, here we assume a batch of size 1).\n",
        "    stop_condition = False\n",
        "    decoded_sentence = ''\n",
        "    while not stop_condition:\n",
        "        output_tokens, h, c = decoder_model.predict(\n",
        "            [target_seq] + states_value)\n",
        "\n",
        "        # Sample a token\n",
        "        sampled_token_index = np.argmax(output_tokens[0, -1, :])\n",
        "        sampled_char = reverse_target_char_index[sampled_token_index]\n",
        "        decoded_sentence += ' '+sampled_char\n",
        "\n",
        "        # Exit condition: either hit max length\n",
        "        # or find stop character.\n",
        "        if (sampled_char == '_END' or\n",
        "           len(decoded_sentence) > 52):\n",
        "            stop_condition = True\n",
        "\n",
        "        # Update the target sequence (of length 1).\n",
        "        target_seq = np.zeros((1,1))\n",
        "        target_seq[0, 0] = sampled_token_index\n",
        "\n",
        "        # Update states\n",
        "        states_value = [h, c]\n",
        "\n",
        "    return decoded_sentence"
      ],
      "execution_count": 0,
      "outputs": []
    },
    {
      "cell_type": "code",
      "metadata": {
        "id": "9ZTkmMfe86j4",
        "colab_type": "code",
        "colab": {}
      },
      "source": [
        ""
      ],
      "execution_count": 0,
      "outputs": []
    },
    {
      "cell_type": "code",
      "metadata": {
        "id": "1y9SPOJg-6Gv",
        "colab_type": "code",
        "colab": {}
      },
      "source": [
        "def freeze_session(session, keep_var_names=None, output_names=None, clear_devices=True):\n",
        "    \"\"\"\n",
        "    Freezes the state of a session into a pruned computation graph.\n",
        "\n",
        "    Creates a new computation graph where variable nodes are replaced by\n",
        "    constants taking their current value in the session. The new graph will be\n",
        "    pruned so subgraphs that are not necessary to compute the requested\n",
        "    outputs are removed.\n",
        "    @param session The TensorFlow session to be frozen.\n",
        "    @param keep_var_names A list of variable names that should not be frozen,\n",
        "                          or None to freeze all the variables in the graph.\n",
        "    @param output_names Names of the relevant graph outputs.\n",
        "    @param clear_devices Remove the device directives from the graph for better portability.\n",
        "    @return The frozen graph definition.\n",
        "    \"\"\"\n",
        "    from tensorflow.python.framework.graph_util import convert_variables_to_constants\n",
        "    graph = session.graph\n",
        "    with graph.as_default():\n",
        "        freeze_var_names = list(set(v.op.name for v in tf.global_variables()).difference(keep_var_names or []))\n",
        "        output_names = output_names or []\n",
        "        output_names += [v.op.name for v in tf.global_variables()]\n",
        "        input_graph_def = graph.as_graph_def()\n",
        "        if clear_devices:\n",
        "            for node in input_graph_def.node:\n",
        "                node.device = \"\"\n",
        "        frozen_graph = convert_variables_to_constants(session, input_graph_def,\n",
        "                                                      output_names, freeze_var_names)\n",
        "        return frozen_graph\n",
        "\n",
        "      "
      ],
      "execution_count": 0,
      "outputs": []
    },
    {
      "cell_type": "code",
      "metadata": {
        "id": "7MlmO53yHcLA",
        "colab_type": "code",
        "outputId": "b5654b1b-da85-41ba-8591-916daef7bb4b",
        "colab": {
          "base_uri": "https://localhost:8080/",
          "height": 66
        }
      },
      "source": [
        "from keras import backend as K\n",
        "import tensorflow as tf\n",
        "\n",
        "# Create, compile and train model...\n",
        "\n",
        "frozen_graph = freeze_session(K.get_session(),\n",
        "                              output_names=[out.op.name for out in model.outputs])\n",
        "tf.train.write_graph(frozen_graph, \"/drive/chatbot\", \"my_model.pb\", as_text=False)"
      ],
      "execution_count": 0,
      "outputs": [
        {
          "output_type": "stream",
          "text": [
            "INFO:tensorflow:Froze 48 variables.\n",
            "INFO:tensorflow:Converted 48 variables to const ops.\n"
          ],
          "name": "stdout"
        },
        {
          "output_type": "execute_result",
          "data": {
            "text/plain": [
              "'/drive/chatbot/my_model.pb'"
            ]
          },
          "metadata": {
            "tags": []
          },
          "execution_count": 195
        }
      ]
    },
    {
      "cell_type": "code",
      "metadata": {
        "id": "nzR_gIn7Hz6P",
        "colab_type": "code",
        "outputId": "ac260035-6114-4f55-ae87-88d07cb45c6b",
        "colab": {
          "base_uri": "https://localhost:8080/",
          "height": 50
        }
      },
      "source": [
        "!ls drive/chatbot"
      ],
      "execution_count": 0,
      "outputs": [
        {
          "output_type": "stream",
          "text": [
            "checkpoint  keras_model.ckpt.data-00000-of-00001  keras_model.ckpt.meta\r\n",
            "hin.txt     keras_model.ckpt.index\r\n"
          ],
          "name": "stdout"
        }
      ]
    },
    {
      "cell_type": "markdown",
      "metadata": {
        "id": "sLV5fVFa42Fc",
        "colab_type": "text"
      },
      "source": [
        "#### Look at the some translations"
      ]
    },
    {
      "cell_type": "code",
      "metadata": {
        "id": "hhruvJa042Fd",
        "colab_type": "code",
        "outputId": "54f4a137-01e4-4d9d-9467-8c52ef0a269d",
        "colab": {
          "base_uri": "https://localhost:8080/",
          "height": 6683
        }
      },
      "source": [
        "for seq_index in range(100):\n",
        "    input_seq = encoder_input_data[seq_index: seq_index + 1]\n",
        "    decoded_sentence = decode_sequence(input_seq)\n",
        "    print('-')\n",
        "    print('Input sentence:', lines.eng[seq_index: seq_index + 1])\n",
        "    print('Decoded sentence:', decoded_sentence)"
      ],
      "execution_count": 0,
      "outputs": [
        {
          "output_type": "stream",
          "text": [
            "-\n",
            "Input sentence: 0    shanky happy th bday shanky  🎂🎂🎂🎂🍫🍫🍫🍫🍫 httpsww...\n",
            "Name: eng, dtype: object\n",
            "Decoded sentence:  dandiya dandiya khi cute user user user user user user\n",
            "-\n",
            "Input sentence: 1    bad me \n",
            "Name: eng, dtype: object\n",
            "Decoded sentence:  dandiya dandiya khi cute user user user user user user\n",
            "-\n",
            "Input sentence: 2    hi chachu phn kar rhe h na \n",
            "Name: eng, dtype: object\n",
            "Decoded sentence:  dandiya dandiya khi cute user user user user user user\n",
            "-\n",
            "Input sentence: 3    ok \n",
            "Name: eng, dtype: object\n",
            "Decoded sentence:  dandiya dandiya khi cute user user user user user user\n",
            "-\n",
            "Input sentence: 4    ok httpswwwairtelinsselfcarenormallogin \n",
            "Name: eng, dtype: object\n",
            "Decoded sentence:  dandiya dandiya khi cute user user user user user user\n",
            "-\n",
            "Input sentence: 5    ha \n",
            "Name: eng, dtype: object\n",
            "Decoded sentence:  dandiya dandiya khi cute user user user user user user\n",
            "-\n",
            "Input sentence: 6    aja ladeshwar tere liye aarti ki thali tayar r...\n",
            "Name: eng, dtype: object\n",
            "Decoded sentence:  dandiya dandiya khi cute user user user user user user\n",
            "-\n",
            "Input sentence: 7    charger laya h ke chore \n",
            "Name: eng, dtype: object\n",
            "Decoded sentence:  dandiya dandiya khi cute user user user user user user\n",
            "-\n",
            "Input sentence: 8    bekoof khud ka chatger laya h \n",
            "Name: eng, dtype: object\n",
            "Decoded sentence:  dandiya dandiya khi cute user user user user user user\n",
            "-\n",
            "Input sentence: 9    yar had h tu \n",
            "Name: eng, dtype: object\n",
            "Decoded sentence:  dandiya dandiya khi cute user user user user user user\n",
            "-\n",
            "Input sentence: 10    yaga ke charger se to ho liya tera phn charge ...\n",
            "Name: eng, dtype: object\n",
            "Decoded sentence:  dandiya dandiya khi cute user user user user user user\n",
            "-\n",
            "Input sentence: 11    🤣🤣🤣 i know that tera phm  la ho gya 😭 \n",
            "Name: eng, dtype: object\n",
            "Decoded sentence:  dandiya dandiya khi cute user user user user user user\n",
            "-\n",
            "Input sentence: 12    phone \n",
            "Name: eng, dtype: object\n",
            "Decoded sentence:  dandiya dandiya khi cute user user user user user user\n",
            "-\n",
            "Input sentence: 13    😋 \n",
            "Name: eng, dtype: object\n",
            "Decoded sentence:  dandiya dandiya khi cute user user user user user user\n",
            "-\n",
            "Input sentence: 14    yusss ksa kiya mastttt \n",
            "Name: eng, dtype: object\n",
            "Decoded sentence:  dandiya dandiya khi cute user user user user user user\n",
            "-\n",
            "Input sentence: 15    bata na \n",
            "Name: eng, dtype: object\n",
            "Decoded sentence:  dandiya dandiya khi cute user user user user user user\n",
            "-\n",
            "Input sentence: 16    awesome \n",
            "Name: eng, dtype: object\n",
            "Decoded sentence:  dandiya dandiya khi cute user user user user user user\n",
            "-\n",
            "Input sentence: 17    тнαиχ apna jio nb bhej \n",
            "Name: eng, dtype: object\n",
            "Decoded sentence:  dandiya dandiya khi cute user user user user user user\n",
            "-\n",
            "Input sentence: 18    thnks \n",
            "Name: eng, dtype: object\n",
            "Decoded sentence:  dandiya dandiya khi cute user user user user user user\n",
            "-\n",
            "Input sentence: 19    tere pas recharge ka msg aaya kya \n",
            "Name: eng, dtype: object\n",
            "Decoded sentence:  dandiya dandiya khi cute user user user user user user\n",
            "-\n",
            "Input sentence: 20    ok wo offer band hpne wala tga isliye fatafat ...\n",
            "Name: eng, dtype: object\n",
            "Decoded sentence:  dandiya dandiya khi cute user user user user user user\n",
            "-\n",
            "Input sentence: 21    ok bye gn \n",
            "Name: eng, dtype: object\n",
            "Decoded sentence:  dandiya dandiya khi cute user user user user user user\n",
            "-\n",
            "Input sentence: 22    hmm nhi mummy jagi hui h \n",
            "Name: eng, dtype: object\n",
            "Decoded sentence:  dandiya dandiya khi cute user user user user user user\n",
            "-\n",
            "Input sentence: 23    thik h dekh lenge \n",
            "Name: eng, dtype: object\n",
            "Decoded sentence:  dandiya dandiya khi cute user user user user user user\n",
            "-\n",
            "Input sentence: 24    thank u \n",
            "Name: eng, dtype: object\n",
            "Decoded sentence:  dandiya dandiya khi cute user user user user user user\n",
            "-\n",
            "Input sentence: 25    oye pagal ho gya h kya 😆😆😆😆🙃 \n",
            "Name: eng, dtype: object\n",
            "Decoded sentence:  dandiya dandiya khi cute user user user user user user\n",
            "-\n",
            "Input sentence: 26    👌 \n",
            "Name: eng, dtype: object\n",
            "Decoded sentence:  dandiya dandiya khi cute user user user user user user\n",
            "-\n",
            "Input sentence: 27    ye photo bhej de mere bday wali pics me hogi u...\n",
            "Name: eng, dtype: object\n",
            "Decoded sentence:  dandiya dandiya khi cute user user user user user user\n",
            "-\n",
            "Input sentence: 28      flipkart big  sale offers \n",
            "Name: eng, dtype: object\n",
            "Decoded sentence:  dandiya dandiya khi cute user user user user user user\n",
            "-\n",
            "Input sentence: 29    this is farzi \n",
            "Name: eng, dtype: object\n",
            "Decoded sentence:  dandiya dandiya khi cute user user user user user user\n",
            "-\n",
            "Input sentence: 30    order place karne jayega to  jano konfwd karne...\n",
            "Name: eng, dtype: object\n",
            "Decoded sentence:  dandiya dandiya khi cute user user user user user user\n",
            "-\n",
            "Input sentence: 31    sale ek min me khatam hoti h jbln redmi  m to ...\n",
            "Name: eng, dtype: object\n",
            "Decoded sentence:  dandiya dandiya khi cute user user user user user user\n",
            "-\n",
            "Input sentence: 32    kuch bhi nhi ho rha \n",
            "Name: eng, dtype: object\n",
            "Decoded sentence:  dandiya dandiya khi cute user user user user user user\n",
            "-\n",
            "Input sentence: 33    ha hum phuch gaye gatw pe \n",
            "Name: eng, dtype: object\n",
            "Decoded sentence:  dandiya dandiya khi cute user user user user user user\n",
            "-\n",
            "Input sentence: 34    pani dekh le \n",
            "Name: eng, dtype: object\n",
            "Decoded sentence:  dandiya dandiya khi cute user user user user user user\n",
            "-\n",
            "Input sentence: 35    reachee mumma ko bata de \n",
            "Name: eng, dtype: object\n",
            "Decoded sentence:  dandiya dandiya khi cute user user user user user user\n",
            "-\n",
            "Input sentence: 36    sun phn nhi laga mumma ka aur papa ne nhi utha...\n",
            "Name: eng, dtype: object\n",
            "Decoded sentence:  dandiya dandiya khi cute user user user user user user\n",
            "-\n",
            "Input sentence: 37    mumma ko bata de \n",
            "Name: eng, dtype: object\n",
            "Decoded sentence:  dandiya dandiya khi cute user user user user user user\n",
            "-\n",
            "Input sentence: 38    thank u dont call i will call by myself \n",
            "Name: eng, dtype: object\n",
            "Decoded sentence:  dandiya dandiya khi cute user user user user user user\n",
            "-\n",
            "Input sentence: 39    bol dena mumma ko \n",
            "Name: eng, dtype: object\n",
            "Decoded sentence:  dandiya dandiya khi cute user user user user user user\n",
            "-\n",
            "Input sentence: 40    sun papa ko call karke bol i am alrite and lea...\n",
            "Name: eng, dtype: object\n",
            "Decoded sentence:  dandiya dandiya khi cute user user user user user user\n",
            "-\n",
            "Input sentence: 41    👌 yes hey room mil gya \n",
            "Name: eng, dtype: object\n",
            "Decoded sentence:  dandiya dandiya khi cute user user user user user user\n",
            "-\n",
            "Input sentence: 42    badiya kya h khane me \n",
            "Name: eng, dtype: object\n",
            "Decoded sentence:  dandiya dandiya khi cute user user user user user user\n",
            "-\n",
            "Input sentence: 43    😋😋😋😋 good hv fun \n",
            "Name: eng, dtype: object\n",
            "Decoded sentence:  dandiya dandiya khi cute user user user user user user\n",
            "-\n",
            "Input sentence: 44    kha le jaha kha rha g mess me nhi tha kya acga...\n",
            "Name: eng, dtype: object\n",
            "Decoded sentence:  dandiya dandiya khi cute user user user user user user\n",
            "-\n",
            "Input sentence: 45    ohk ho gya shift \n",
            "Name: eng, dtype: object\n",
            "Decoded sentence:  dandiya dandiya khi cute user user user user user user\n",
            "-\n",
            "Input sentence: 46    room badiya h kya \n",
            "Name: eng, dtype: object\n",
            "Decoded sentence:  dandiya dandiya khi cute user user user user user user\n",
            "-\n",
            "Input sentence: 47    🤣🤣🤣 teri bhi koi le gya hoga \n",
            "Name: eng, dtype: object\n",
            "Decoded sentence:  dandiya dandiya khi cute user user user user user user\n",
            "-\n",
            "Input sentence: 48    chal tu noodles kha le bye gn \n",
            "Name: eng, dtype: object\n",
            "Decoded sentence:  dandiya dandiya khi cute user user user user user user\n",
            "-\n",
            "Input sentence: 49    nyc \n",
            "Name: eng, dtype: object\n",
            "Decoded sentence:  dandiya dandiya khi cute user user user user user user\n",
            "-\n",
            "Input sentence: 50    ro kyu ra h \n",
            "Name: eng, dtype: object\n",
            "Decoded sentence:  dandiya dandiya khi cute user user user user user user\n",
            "-\n",
            "Input sentence: 51    🤣🤣🤣 \n",
            "Name: eng, dtype: object\n",
            "Decoded sentence:  dandiya dandiya khi cute user user user user user user\n",
            "-\n",
            "Input sentence: 52    galti se lag gya call sorry \n",
            "Name: eng, dtype: object\n",
            "Decoded sentence:  dandiya dandiya khi cute user user user user user user\n",
            "-\n",
            "Input sentence: 53    sleep well \n",
            "Name: eng, dtype: object\n",
            "Decoded sentence:  dandiya dandiya khi cute user user user user user user\n",
            "-\n",
            "Input sentence: 54    hmm tera jio ka nb bhej dena \n",
            "Name: eng, dtype: object\n",
            "Decoded sentence:  dandiya dandiya khi cute user user user user user user\n",
            "-\n",
            "Input sentence: 55    are yar \n",
            "Name: eng, dtype: object\n",
            "Decoded sentence:  dandiya dandiya khi cute user user user user user user\n",
            "-\n",
            "Input sentence: 56    mummy ko bhejna nahi aayega \n",
            "Name: eng, dtype: object\n",
            "Decoded sentence:  dandiya dandiya khi cute user user user user user user\n",
            "-\n",
            "Input sentence: 57    kisi frnd ke pass h kya chinu di ke pas hoga c...\n",
            "Name: eng, dtype: object\n",
            "Decoded sentence:  dandiya dandiya khi cute user user user user user user\n",
            "-\n",
            "Input sentence: 58    tera jio plan chal rha h kya \n",
            "Name: eng, dtype: object\n",
            "Decoded sentence:  dandiya dandiya khi cute user user user user user user\n",
            "-\n",
            "Input sentence: 59    khatam nhi hua kya abhi \n",
            "Name: eng, dtype: object\n",
            "Decoded sentence:  dandiya dandiya khi cute user user user user user user\n"
          ],
          "name": "stdout"
        },
        {
          "output_type": "stream",
          "text": [
            "-\n",
            "Input sentence: 60    mere airtel number pe call kar \n",
            "Name: eng, dtype: object\n",
            "Decoded sentence:  dandiya dandiya khi cute user user user user user user\n",
            "-\n",
            "Input sentence: 61    wah yar teko pata bhi nhi internet hamesha cha...\n",
            "Name: eng, dtype: object\n",
            "Decoded sentence:  dandiya dandiya khi cute user user user user user user\n",
            "-\n",
            "Input sentence: 62    ab kar ke dekh ho gaya na \n",
            "Name: eng, dtype: object\n",
            "Decoded sentence:  dandiya dandiya khi cute user user user user user user\n",
            "-\n",
            "Input sentence: 63    rechargeckiya h kyunki gawar bye tc \n",
            "Name: eng, dtype: object\n",
            "Decoded sentence:  dandiya dandiya khi cute user user user user user user\n",
            "-\n",
            "Input sentence: 64    i was the first one to do it 🤣 at least in my ...\n",
            "Name: eng, dtype: object\n",
            "Decoded sentence:  dandiya dandiya khi cute user user user user user user\n",
            "-\n",
            "Input sentence: 65    kya potty time pass ke liye ok h \n",
            "Name: eng, dtype: object\n",
            "Decoded sentence:  dandiya dandiya khi cute user user user user user user\n",
            "-\n",
            "Input sentence: 66    logo ne potty bana diya h har msg ko post kart...\n",
            "Name: eng, dtype: object\n",
            "Decoded sentence:  dandiya dandiya khi cute user user user user user user\n",
            "-\n",
            "Input sentence: 67    if u jsut share ur profile link its fine par e...\n",
            "Name: eng, dtype: object\n",
            "Decoded sentence:  dandiya dandiya khi cute user user user user user user\n",
            "-\n",
            "Input sentence: 68    i know that was the first thing taht came to m...\n",
            "Name: eng, dtype: object\n",
            "Decoded sentence:  dandiya dandiya khi cute user user user user user user\n",
            "-\n",
            "Input sentence: 69    koi na ye potty h u will make something brette...\n",
            "Name: eng, dtype: object\n",
            "Decoded sentence:  dandiya dandiya khi cute user user user user user user\n",
            "-\n",
            "Input sentence: 70    machine learning for ecommerce businesses they...\n",
            "Name: eng, dtype: object\n",
            "Decoded sentence:  dandiya dandiya khi cute user user user user user user\n",
            "-\n",
            "Input sentence: 71    hmm  \n",
            "Name: eng, dtype: object\n",
            "Decoded sentence:  dandiya dandiya khi cute user user user user user user\n",
            "-\n",
            "Input sentence: 72    kya \n",
            "Name: eng, dtype: object\n",
            "Decoded sentence:  dandiya dandiya khi cute user user user user user user\n",
            "-\n",
            "Input sentence: 73    ha to padh le na next time koi badiya company ...\n",
            "Name: eng, dtype: object\n",
            "Decoded sentence:  dandiya dandiya khi cute user user user user user user\n",
            "-\n",
            "Input sentence: 74    hw hmm \n",
            "Name: eng, dtype: object\n",
            "Decoded sentence:  dandiya dandiya khi cute user user user user user user\n",
            "-\n",
            "Input sentence: 75    rehne de tere se to achi h \n",
            "Name: eng, dtype: object\n",
            "Decoded sentence:  dandiya dandiya khi cute user user user user user user\n",
            "-\n",
            "Input sentence: 76    ayr jo tune dp lagayi h usme meri shakal dekhi h \n",
            "Name: eng, dtype: object\n",
            "Decoded sentence:  dandiya dandiya khi cute user user user user user user\n",
            "-\n",
            "Input sentence: 77    shabky mat dekhe phat jayegi buri wali bht kha...\n",
            "Name: eng, dtype: object\n",
            "Decoded sentence:  dandiya dandiya khi cute user user user user user user\n",
            "-\n",
            "Input sentence: 78    dekha laptop bhi play nhi karna chahta \n",
            "Name: eng, dtype: object\n",
            "Decoded sentence:  dandiya dandiya khi cute user user user user user user\n",
            "-\n",
            "Input sentence: 79    🤣🤣🤣🤣 beta so to nhi payega tu barat ke sath de...\n",
            "Name: eng, dtype: object\n",
            "Decoded sentence:  dandiya dandiya khi cute user user user user user user\n",
            "-\n",
            "Input sentence: 80    bacho hanuman chalisa yad h na \n",
            "Name: eng, dtype: object\n",
            "Decoded sentence:  dandiya dandiya khi cute user user user user user user\n",
            "-\n",
            "Input sentence: 81    all the best susu ja ya pata chala bistar me n...\n",
            "Name: eng, dtype: object\n",
            "Decoded sentence:  dandiya dandiya khi cute user user user user user user\n",
            "-\n",
            "Input sentence: 82    beta wo gudiys ghus gyi tumhare laptop me \n",
            "Name: eng, dtype: object\n",
            "Decoded sentence:  dandiya dandiya khi cute user user user user user user\n",
            "-\n",
            "Input sentence: 83    hehe 🤣🤣🤣🤣🤣 darr ke age jeet h sab sahi \n",
            "Name: eng, dtype: object\n",
            "Decoded sentence:  dandiya dandiya khi cute user user user user user user\n",
            "-\n",
            "Input sentence: 84    🤣🤣🤣🤣🤣 fattuuu \n",
            "Name: eng, dtype: object\n",
            "Decoded sentence:  dandiya dandiya khi cute user user user user user user\n",
            "-\n",
            "Input sentence: 85    badiya \n",
            "Name: eng, dtype: object\n",
            "Decoded sentence:  dandiya dandiya khi cute user user user user user user\n",
            "-\n",
            "Input sentence: 86    yu \n",
            "Name: eng, dtype: object\n",
            "Decoded sentence:  dandiya dandiya khi cute user user user user user user\n",
            "-\n",
            "Input sentence: 87    fried rice man manchurian \n",
            "Name: eng, dtype: object\n",
            "Decoded sentence:  dandiya dandiya khi cute user user user user user user\n",
            "-\n",
            "Input sentence: 88    🤣 \n",
            "Name: eng, dtype: object\n",
            "Decoded sentence:  dandiya dandiya khi cute user user user user user user\n",
            "-\n",
            "Input sentence: 89    🤣🤣🤣🤣🤣🤣 maine pichle  din se roj dinner me dal ...\n",
            "Name: eng, dtype: object\n",
            "Decoded sentence:  dandiya dandiya khi cute user user user user user user\n",
            "-\n",
            "Input sentence: 90    जय श्री गणेशांय नमः \n",
            "Name: eng, dtype: object\n",
            "Decoded sentence:  dandiya dandiya khi cute user user user user user user\n",
            "-\n",
            "Input sentence: 91    nayi chappal ka sadupyog \n",
            "Name: eng, dtype: object\n",
            "Decoded sentence:  dandiya dandiya khi cute user user user user user user\n",
            "-\n",
            "Input sentence: 92    🙈🙈🙈 ha tu jisko compliment karta h fb pe wo hu...\n",
            "Name: eng, dtype: object\n",
            "Decoded sentence:  dandiya dandiya khi cute user user user user user user\n",
            "-\n",
            "Input sentence: 93    rehne de anyways hum jaise bhi h tujhse to ach...\n",
            "Name: eng, dtype: object\n",
            "Decoded sentence:  dandiya dandiya khi cute user user user user user user\n",
            "-\n",
            "Input sentence: 94    🤣🤣🤣🤣 farzi logo se door rhna \n",
            "Name: eng, dtype: object\n",
            "Decoded sentence:  dandiya dandiya khi cute user user user user user user\n",
            "-\n",
            "Input sentence: 95    haha \n",
            "Name: eng, dtype: object\n",
            "Decoded sentence:  dandiya dandiya khi cute user user user user user user\n",
            "-\n",
            "Input sentence: 96    tu bhi whi hoga jo m hu \n",
            "Name: eng, dtype: object\n",
            "Decoded sentence:  dandiya dandiya khi cute user user user user user user\n",
            "-\n",
            "Input sentence: 97    to tu khud ko 💩 bol rha h \n",
            "Name: eng, dtype: object\n",
            "Decoded sentence:  dandiya dandiya khi cute user user user user user user\n",
            "-\n",
            "Input sentence: 98    tu phuch gya kta paper h padh lr \n",
            "Name: eng, dtype: object\n",
            "Decoded sentence:  dandiya dandiya khi cute user user user user user user\n",
            "-\n",
            "Input sentence: 99    to padh le \n",
            "Name: eng, dtype: object\n",
            "Decoded sentence:  dandiya dandiya khi cute user user user user user user\n"
          ],
          "name": "stdout"
        }
      ]
    },
    {
      "cell_type": "code",
      "metadata": {
        "id": "1MYWhufQAhpB",
        "colab_type": "code",
        "colab": {}
      },
      "source": [
        "def InputLine(line):\n",
        "  input_line_data = np.zeros(\n",
        "      (1, max_encoder_seq_length),\n",
        "      dtype='float32')\n",
        "  for t, word in enumerate(line.split()):\n",
        "        input_line_data[0, t] = input_token_index[word]\n",
        "  decoded_sentence=decode_sequence(input_line_data)    \n",
        "  print(decoded_sentence)"
      ],
      "execution_count": 0,
      "outputs": []
    },
    {
      "cell_type": "code",
      "metadata": {
        "id": "ynbDcsMh42Fh",
        "colab_type": "code",
        "outputId": "12ab2ca2-6435-4a2a-cc0c-faf0b3eff2be",
        "colab": {
          "base_uri": "https://localhost:8080/",
          "height": 277
        }
      },
      "source": [
        "InputLine(\"kya kre btao\")"
      ],
      "execution_count": 0,
      "outputs": [
        {
          "output_type": "error",
          "ename": "KeyError",
          "evalue": "ignored",
          "traceback": [
            "\u001b[0;31m---------------------------------------------------------------------------\u001b[0m",
            "\u001b[0;31mKeyError\u001b[0m                                  Traceback (most recent call last)",
            "\u001b[0;32m<ipython-input-56-b78922d54916>\u001b[0m in \u001b[0;36m<module>\u001b[0;34m()\u001b[0m\n\u001b[0;32m----> 1\u001b[0;31m \u001b[0mInputLine\u001b[0m\u001b[0;34m(\u001b[0m\u001b[0;34m\"kya kre btao\"\u001b[0m\u001b[0;34m)\u001b[0m\u001b[0;34m\u001b[0m\u001b[0m\n\u001b[0m",
            "\u001b[0;32m<ipython-input-39-63ea69efe0ad>\u001b[0m in \u001b[0;36mInputLine\u001b[0;34m(line)\u001b[0m\n\u001b[1;32m      4\u001b[0m       dtype='float32')\n\u001b[1;32m      5\u001b[0m   \u001b[0;32mfor\u001b[0m \u001b[0mt\u001b[0m\u001b[0;34m,\u001b[0m \u001b[0mword\u001b[0m \u001b[0;32min\u001b[0m \u001b[0menumerate\u001b[0m\u001b[0;34m(\u001b[0m\u001b[0mline\u001b[0m\u001b[0;34m.\u001b[0m\u001b[0msplit\u001b[0m\u001b[0;34m(\u001b[0m\u001b[0;34m)\u001b[0m\u001b[0;34m)\u001b[0m\u001b[0;34m:\u001b[0m\u001b[0;34m\u001b[0m\u001b[0m\n\u001b[0;32m----> 6\u001b[0;31m         \u001b[0minput_line_data\u001b[0m\u001b[0;34m[\u001b[0m\u001b[0;36m0\u001b[0m\u001b[0;34m,\u001b[0m \u001b[0mt\u001b[0m\u001b[0;34m]\u001b[0m \u001b[0;34m=\u001b[0m \u001b[0minput_token_index\u001b[0m\u001b[0;34m[\u001b[0m\u001b[0mword\u001b[0m\u001b[0;34m]\u001b[0m\u001b[0;34m\u001b[0m\u001b[0m\n\u001b[0m\u001b[1;32m      7\u001b[0m   \u001b[0mdecoded_sentence\u001b[0m\u001b[0;34m=\u001b[0m\u001b[0mdecode_sequence\u001b[0m\u001b[0;34m(\u001b[0m\u001b[0minput_line_data\u001b[0m\u001b[0;34m)\u001b[0m\u001b[0;34m\u001b[0m\u001b[0m\n\u001b[1;32m      8\u001b[0m   \u001b[0mprint\u001b[0m\u001b[0;34m(\u001b[0m\u001b[0mdecoded_sentence\u001b[0m\u001b[0;34m)\u001b[0m\u001b[0;34m\u001b[0m\u001b[0m\n",
            "\u001b[0;31mKeyError\u001b[0m: 'btao'"
          ]
        }
      ]
    },
    {
      "cell_type": "code",
      "metadata": {
        "id": "dsWGx0YbFETS",
        "colab_type": "code",
        "outputId": "2a7f7865-9bdf-4be0-ded1-03336a1671eb",
        "colab": {
          "base_uri": "https://localhost:8080/",
          "height": 66
        }
      },
      "source": [
        "!pip install bazel"
      ],
      "execution_count": 0,
      "outputs": [
        {
          "output_type": "stream",
          "text": [
            "Collecting bazel\n",
            "\u001b[31m  Could not find a version that satisfies the requirement bazel (from versions: )\u001b[0m\n",
            "\u001b[31mNo matching distribution found for bazel\u001b[0m\n"
          ],
          "name": "stdout"
        }
      ]
    }
  ]
}